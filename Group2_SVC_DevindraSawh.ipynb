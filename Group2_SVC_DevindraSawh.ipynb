{
 "cells": [
  {
   "cell_type": "markdown",
   "metadata": {
    "id": "I9iD04kEBH-y"
   },
   "source": [
    "**Devindra Sawh Group 2 DSC540: Project Milestone**\n"
   ]
  },
  {
   "cell_type": "markdown",
   "metadata": {
    "id": "c5gTbcWjiqEs"
   },
   "source": [
    "#####  SVM Classifier \n"
   ]
  },
  {
   "cell_type": "code",
   "execution_count": null,
   "metadata": {
    "colab": {
     "base_uri": "https://localhost:8080/",
     "height": 73,
     "resources": {
      "http://localhost:8080/nbextensions/google.colab/files.js": {
       "data": "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",
       "headers": [
        [
         "content-type",
         "application/javascript"
        ]
       ],
       "ok": true,
       "status": 200,
       "status_text": ""
      }
     }
    },
    "id": "lcZkNQvFi_g5",
    "outputId": "058ff1a0-332c-4a2f-b47f-5169977a99b9"
   },
   "outputs": [
    {
     "data": {
      "text/html": [
       "\n",
       "     <input type=\"file\" id=\"files-5dd031be-81e2-49ae-b9e8-e0029c9da517\" name=\"files[]\" multiple disabled\n",
       "        style=\"border:none\" />\n",
       "     <output id=\"result-5dd031be-81e2-49ae-b9e8-e0029c9da517\">\n",
       "      Upload widget is only available when the cell has been executed in the\n",
       "      current browser session. Please rerun this cell to enable.\n",
       "      </output>\n",
       "      <script src=\"/nbextensions/google.colab/files.js\"></script> "
      ],
      "text/plain": [
       "<IPython.core.display.HTML object>"
      ]
     },
     "metadata": {
      "tags": []
     },
     "output_type": "display_data"
    },
    {
     "name": "stdout",
     "output_type": "stream",
     "text": [
      "Saving data.csv to data (1).csv\n"
     ]
    }
   ],
   "source": [
    "#from google.colab import files\n",
    "#uploaded = files.upload()"
   ]
  },
  {
   "cell_type": "code",
   "execution_count": null,
   "metadata": {},
   "outputs": [],
   "source": []
  },
  {
   "cell_type": "code",
   "execution_count": 4,
   "metadata": {
    "id": "ehQ4DaD8qW5U"
   },
   "outputs": [],
   "source": [
    "\n",
    "from sklearn import tree\n",
    "from sklearn import metrics\n",
    "from sklearn.metrics import plot_confusion_matrix\n",
    "from sklearn.datasets import make_classification\n",
    "from sklearn.metrics import confusion_matrix\n",
    "import pylab as plt\n",
    "from sklearn.metrics import classification_report\n",
    "from sklearn.metrics import balanced_accuracy_score\n",
    "\n",
    "from sklearn.model_selection import train_test_split\n",
    "from sklearn.model_selection import StratifiedKFold"
   ]
  },
  {
   "cell_type": "code",
   "execution_count": 11,
   "metadata": {
    "id": "BOd8SYXdjuiS"
   },
   "outputs": [],
   "source": [
    "import io\n",
    "import pandas as pd\n",
    "import numpy as np\n",
    "import seaborn as sns\n",
    "import matplotlib.pyplot as plt"
   ]
  },
  {
   "cell_type": "code",
   "execution_count": 3,
   "metadata": {
    "id": "sq48PUMTjctD"
   },
   "outputs": [],
   "source": [
    "#Reading Raw file for SVC modeling\n",
    "\n",
    "df = pd.read_csv('data.csv')"
   ]
  },
  {
   "cell_type": "code",
   "execution_count": 5,
   "metadata": {
    "colab": {
     "base_uri": "https://localhost:8080/"
    },
    "id": "hfkzp6d_j70f",
    "outputId": "0dd8bd79-5a60-4e98-cdfc-a6f4cf00c383"
   },
   "outputs": [
    {
     "data": {
      "text/plain": [
       "133484"
      ]
     },
     "execution_count": 5,
     "metadata": {},
     "output_type": "execute_result"
    }
   ],
   "source": [
    "\n",
    "## Data Processing to remove popularity of 0\n",
    "test_set = df[df.popularity == 0]\n",
    "train_and_validation = df[df[\"popularity\"] != 0]\n",
    "y = train_and_validation.popularity\n",
    "# Keep only numeric attributes \n",
    "X_numeric = train_and_validation.drop(['popularity', 'id', 'release_date', 'name', 'artists'], axis=1)\n",
    "\n",
    "\n",
    "# Standardization of the data  -- SVC performs better with standardized data\n",
    "from sklearn.preprocessing import StandardScaler\n",
    "ss = StandardScaler()\n",
    "ss.fit(X_numeric)\n",
    "X_scaled = ss.transform(X_numeric)\n",
    "X_scaled\n",
    "\n",
    "# Divide classes into quartiles for target variable.  This will change popularity into 4 quartiles where q4 is the \n",
    "#most popular songs\n",
    "y_quartile = []\n",
    "for val in y:\n",
    "    if(val <= 25):\n",
    "        y_quartile.append(\"q1\")\n",
    "    elif(val > 26 and val <= 50):\n",
    "        y_quartile.append(\"q2\")\n",
    "    elif(val > 51 and val <= 75):\n",
    "        y_quartile.append(\"q3\")\n",
    "    else:\n",
    "        y_quartile.append(\"q4\")\n",
    "len(y_quartile)\n",
    "\n",
    "\n"
   ]
  },
  {
   "cell_type": "code",
   "execution_count": null,
   "metadata": {
    "id": "B9_HYsm7jg_i"
   },
   "outputs": [],
   "source": [
    "# using X_scaled and y_quartile  so therefore run code from above sections to get X_scaled and Y_quartile"
   ]
  },
  {
   "cell_type": "code",
   "execution_count": null,
   "metadata": {
    "colab": {
     "base_uri": "https://localhost:8080/"
    },
    "id": "6r18fSqll7Vn",
    "outputId": "1026d6b3-dd2e-4b7b-924e-0f8eb2bb18e8"
   },
   "outputs": [
    {
     "data": {
      "text/plain": [
       "133484"
      ]
     },
     "execution_count": 6,
     "metadata": {
      "tags": []
     },
     "output_type": "execute_result"
    }
   ],
   "source": [
    "len(X_scaled)"
   ]
  },
  {
   "cell_type": "code",
   "execution_count": 6,
   "metadata": {
    "colab": {
     "base_uri": "https://localhost:8080/"
    },
    "id": "5Rj6A1-Sl8-C",
    "outputId": "79ab0946-6d07-4c33-ead6-bc3b207b2f73"
   },
   "outputs": [
    {
     "data": {
      "text/plain": [
       "133484"
      ]
     },
     "execution_count": 6,
     "metadata": {},
     "output_type": "execute_result"
    }
   ],
   "source": [
    "len(y_quartile)"
   ]
  },
  {
   "cell_type": "code",
   "execution_count": null,
   "metadata": {
    "colab": {
     "base_uri": "https://localhost:8080/"
    },
    "id": "qmQa2Vm3mCfB",
    "outputId": "ccc613bf-2f28-4082-b0c1-2cb606c731c9"
   },
   "outputs": [
    {
     "data": {
      "text/plain": [
       "list"
      ]
     },
     "execution_count": 8,
     "metadata": {
      "tags": []
     },
     "output_type": "execute_result"
    }
   ],
   "source": [
    "type(y_quartile)"
   ]
  },
  {
   "cell_type": "code",
   "execution_count": 7,
   "metadata": {
    "id": "ou9PJpKEmGgO"
   },
   "outputs": [],
   "source": [
    "y_quartile =  np.array(y_quartile)  ## change the target from list to numpy for modeling"
   ]
  },
  {
   "cell_type": "code",
   "execution_count": 8,
   "metadata": {
    "id": "BHKOKsjqmZMh"
   },
   "outputs": [],
   "source": [
    "# rename variable so i can use split and train code \n",
    "\n",
    "X= X_scaled\n",
    "y= y_quartile"
   ]
  },
  {
   "cell_type": "code",
   "execution_count": 9,
   "metadata": {
    "id": "gd7HXpdzmVgm"
   },
   "outputs": [],
   "source": [
    "#split data without stratifiy. We know the data set is imbalance based on EDA analyis\n",
    "X_train, X_val, y_train, y_val = train_test_split(X, y, test_size=0.50, random_state=2020)"
   ]
  },
  {
   "cell_type": "code",
   "execution_count": null,
   "metadata": {
    "colab": {
     "base_uri": "https://localhost:8080/"
    },
    "id": "dswjjcwYiy68",
    "outputId": "0c9af679-ffeb-4479-ced7-2904f6d08411"
   },
   "outputs": [
    {
     "data": {
      "text/plain": [
       "SVC(C=1.0, break_ties=False, cache_size=200, class_weight=None, coef0=0.0,\n",
       "    decision_function_shape='ovr', degree=3, gamma='scale', kernel='rbf',\n",
       "    max_iter=-1, probability=False, random_state=None, shrinking=True,\n",
       "    tol=0.001, verbose=False)"
      ]
     },
     "execution_count": 10,
     "metadata": {
      "tags": []
     },
     "output_type": "execute_result"
    }
   ],
   "source": [
    "#create 1st model with  defaults using non-stratisfied data\n",
    "from sklearn.svm import SVC # \"Support vector classifier\"\n",
    "model = SVC()  #support vector classifer with RBF\n",
    "model.fit(X_train, y_train)\n"
   ]
  },
  {
   "cell_type": "code",
   "execution_count": null,
   "metadata": {
    "id": "-MlcWfQ4i2WY"
   },
   "outputs": [],
   "source": [
    "#Predict for training\n",
    "predTrain = model.predict(X_train)"
   ]
  },
  {
   "cell_type": "code",
   "execution_count": null,
   "metadata": {
    "colab": {
     "base_uri": "https://localhost:8080/"
    },
    "id": "h8hLGxOnTejF",
    "outputId": "ecc4f17e-740a-472d-d172-c017d82ef4b7"
   },
   "outputs": [
    {
     "data": {
      "text/plain": [
       "0.7119355128704564"
      ]
     },
     "execution_count": 12,
     "metadata": {
      "tags": []
     },
     "output_type": "execute_result"
    }
   ],
   "source": [
    "#accuracy for training\n",
    "metrics.accuracy_score(y_true = y_train, y_pred = predTrain)"
   ]
  },
  {
   "cell_type": "code",
   "execution_count": null,
   "metadata": {
    "colab": {
     "base_uri": "https://localhost:8080/"
    },
    "id": "_wg_lSe6TsJy",
    "outputId": "df12ef0c-e319-4ee7-f699-4a238ead4b4c"
   },
   "outputs": [
    {
     "data": {
      "text/plain": [
       "0.5213312803080515"
      ]
     },
     "execution_count": 13,
     "metadata": {
      "tags": []
     },
     "output_type": "execute_result"
    }
   ],
   "source": [
    "#balanced accuracy for training\n",
    "balanced_accuracy_score(y_train, predTrain)"
   ]
  },
  {
   "cell_type": "code",
   "execution_count": null,
   "metadata": {
    "id": "oxIQUXJlmwqY"
   },
   "outputs": [],
   "source": [
    "#predict for validation \n",
    "predVal = model.predict(X_val)\n"
   ]
  },
  {
   "cell_type": "code",
   "execution_count": null,
   "metadata": {
    "colab": {
     "base_uri": "https://localhost:8080/"
    },
    "id": "H7b9nPYYm1qA",
    "outputId": "013ed570-4ae9-4903-edd3-20012a0900bb"
   },
   "outputs": [
    {
     "data": {
      "text/plain": [
       "0.7021815348656019"
      ]
     },
     "execution_count": 20,
     "metadata": {
      "tags": []
     },
     "output_type": "execute_result"
    }
   ],
   "source": [
    "#accuracy for predictions\n",
    "metrics.accuracy_score(y_true = y_val, y_pred = predVal)"
   ]
  },
  {
   "cell_type": "code",
   "execution_count": null,
   "metadata": {
    "colab": {
     "base_uri": "https://localhost:8080/"
    },
    "id": "SzPo1S4uTnkt",
    "outputId": "12820e29-5275-4c25-d023-e69f70b03327"
   },
   "outputs": [
    {
     "data": {
      "text/plain": [
       "0.5158769324318149"
      ]
     },
     "execution_count": 21,
     "metadata": {
      "tags": []
     },
     "output_type": "execute_result"
    }
   ],
   "source": [
    "#balanced accuracy for validation\n",
    "balanced_accuracy_score(y_val, predVal)"
   ]
  },
  {
   "cell_type": "code",
   "execution_count": null,
   "metadata": {
    "colab": {
     "base_uri": "https://localhost:8080/"
    },
    "id": "i2-ZOLbhm5gQ",
    "outputId": "f1129eed-06b9-4c21-d5d0-c37ffa8a4195"
   },
   "outputs": [
    {
     "name": "stdout",
     "output_type": "stream",
     "text": [
      "[[16966  4930  1381     0]\n",
      " [ 3448 24058  1157     0]\n",
      " [  708  5244  5841     0]\n",
      " [  451  1673   885     0]]\n"
     ]
    }
   ],
   "source": [
    "#confusion Matrix  --- simple one to see that the last quartile is not getting any classifications !!!\n",
    "treeGS = confusion_matrix(y_val, predVal)\n",
    "print(treeGS)"
   ]
  },
  {
   "cell_type": "code",
   "execution_count": null,
   "metadata": {
    "colab": {
     "base_uri": "https://localhost:8080/",
     "height": 326
    },
    "id": "CdaSkwM6TTcn",
    "outputId": "8741c70e-030e-4fea-8d08-d3f7c2b17c68"
   },
   "outputs": [
    {
     "data": {
      "image/png": "[encoded data removed]",
      "text/plain": [
       "<Figure size 432x288 with 1 Axes>"
      ]
     },
     "metadata": {
      "tags": []
     },
     "output_type": "display_data"
    }
   ],
   "source": [
    "# here you can see that the confusion visualization is missing predicted column of q4. \n",
    "\n",
    "confusion_matrix =  pd.crosstab(index=y_val, columns=predVal.ravel(), rownames=['Expected'], colnames=['Predicted'])\n",
    "sns.heatmap(confusion_matrix, annot=True, square=False, fmt='', cbar=False)\n",
    "plt.title(\"Confusion Matrix\", fontsize = 50)\n",
    "plt.show()"
   ]
  },
  {
   "cell_type": "code",
   "execution_count": null,
   "metadata": {
    "colab": {
     "base_uri": "https://localhost:8080/"
    },
    "id": "15whPaGYTYka",
    "outputId": "18d8c470-afa4-499f-b186-5a3b3c13ba01"
   },
   "outputs": [
    {
     "name": "stderr",
     "output_type": "stream",
     "text": [
      "/usr/local/lib/python3.7/dist-packages/sklearn/metrics/_classification.py:1272: UndefinedMetricWarning: Precision and F-score are ill-defined and being set to 0.0 in labels with no predicted samples. Use `zero_division` parameter to control this behavior.\n",
      "  _warn_prf(average, modifier, msg_start, len(result))\n"
     ]
    },
    {
     "name": "stdout",
     "output_type": "stream",
     "text": [
      "              precision    recall  f1-score   support\n",
      "\n",
      "          q1       0.79      0.73      0.76     23277\n",
      "          q2       0.67      0.84      0.75     28663\n",
      "          q3       0.63      0.50      0.55     11793\n",
      "          q4       0.00      0.00      0.00      3009\n",
      "\n",
      "    accuracy                           0.70     66742\n",
      "   macro avg       0.52      0.52      0.51     66742\n",
      "weighted avg       0.67      0.70      0.68     66742\n",
      "\n"
     ]
    }
   ],
   "source": [
    "#classificaiton report confirms q4 is not doing well in this model. \n",
    "print(classification_report(y_val, predVal))"
   ]
  },
  {
   "cell_type": "markdown",
   "metadata": {
    "id": "MwkY0NiLpFHg"
   },
   "source": [
    "**Create Stratify Data Sets**  this is to address the class imbalance for Q4"
   ]
  },
  {
   "cell_type": "code",
   "execution_count": 14,
   "metadata": {
    "id": "pFM0Dw-RqoII"
   },
   "outputs": [],
   "source": [
    "#resplit the data but using the stratified on target valirable \n",
    "X_train, X_val, y_train, y_val = train_test_split(X, y, test_size=0.50, random_state=2020, stratify=y)"
   ]
  },
  {
   "cell_type": "markdown",
   "metadata": {
    "id": "YeteK49fysgy"
   },
   "source": []
  },
  {
   "cell_type": "code",
   "execution_count": null,
   "metadata": {
    "colab": {
     "base_uri": "https://localhost:8080/"
    },
    "id": "_I29Ao7Pqrlw",
    "outputId": "e99f8194-d131-4e6b-a8be-9f0e04d8c92e"
   },
   "outputs": [
    {
     "data": {
      "text/plain": [
       "SVC(C=1.0, break_ties=False, cache_size=200, class_weight='balanced', coef0=0.0,\n",
       "    decision_function_shape='ovr', degree=3, gamma='scale', kernel='rbf',\n",
       "    max_iter=-1, probability=False, random_state=None, shrinking=True,\n",
       "    tol=0.001, verbose=False)"
      ]
     },
     "execution_count": 15,
     "metadata": {
      "tags": []
     },
     "output_type": "execute_result"
    }
   ],
   "source": [
    "#create Object 2 with stratify data sets.   still use RBF but with balanced for class weight \n",
    "from sklearn.svm import SVC # \"Support vector classifier\"\n",
    "model2 = SVC(class_weight = 'balanced')  #support vector classifer with RBF\n",
    "model2.fit(X_train, y_train)"
   ]
  },
  {
   "cell_type": "code",
   "execution_count": null,
   "metadata": {
    "id": "Hkjna8-Utdcu"
   },
   "outputs": [],
   "source": [
    "#Predict for training\n",
    "predTrain = model2.predict(X_train)"
   ]
  },
  {
   "cell_type": "code",
   "execution_count": null,
   "metadata": {
    "colab": {
     "base_uri": "https://localhost:8080/"
    },
    "id": "DfW__ugCph6k",
    "outputId": "c36e6964-50b8-472f-cf50-47d033b69fd3"
   },
   "outputs": [
    {
     "data": {
      "text/plain": [
       "0.6850558868478619"
      ]
     },
     "execution_count": 17,
     "metadata": {
      "tags": []
     },
     "output_type": "execute_result"
    }
   ],
   "source": [
    "#accuracy for training\n",
    "metrics.accuracy_score(y_true = y_train, y_pred = predTrain)"
   ]
  },
  {
   "cell_type": "code",
   "execution_count": null,
   "metadata": {
    "colab": {
     "base_uri": "https://localhost:8080/"
    },
    "id": "sY1UU1reseUx",
    "outputId": "a95c4432-95e3-4571-e5d3-be130182f0ba"
   },
   "outputs": [
    {
     "data": {
      "text/plain": [
       "0.5676952975043066"
      ]
     },
     "execution_count": 18,
     "metadata": {
      "tags": []
     },
     "output_type": "execute_result"
    }
   ],
   "source": [
    "#balanced accuracy for training\n",
    "balanced_accuracy_score(y_train, predTrain)"
   ]
  },
  {
   "cell_type": "code",
   "execution_count": null,
   "metadata": {
    "id": "v2yjYL5etfTP"
   },
   "outputs": [],
   "source": [
    "#predict for validation \n",
    "predVal = model2.predict(X_val)"
   ]
  },
  {
   "cell_type": "code",
   "execution_count": null,
   "metadata": {
    "colab": {
     "base_uri": "https://localhost:8080/"
    },
    "id": "Gpw-aJrRtgFm",
    "outputId": "cbf36b36-6b7a-4a87-c4c2-3b91d15e85ee"
   },
   "outputs": [
    {
     "data": {
      "text/plain": [
       "0.6659374906355818"
      ]
     },
     "execution_count": 23,
     "metadata": {
      "tags": []
     },
     "output_type": "execute_result"
    }
   ],
   "source": [
    "#accuracy for validation \n",
    "metrics.accuracy_score(y_true = y_val, y_pred = predVal)"
   ]
  },
  {
   "cell_type": "code",
   "execution_count": null,
   "metadata": {
    "colab": {
     "base_uri": "https://localhost:8080/"
    },
    "id": "w4NcpLDmslWk",
    "outputId": "2123deaa-0ebe-4023-a921-bb7fc94c082f"
   },
   "outputs": [
    {
     "data": {
      "text/plain": [
       "0.531894442433921"
      ]
     },
     "execution_count": 27,
     "metadata": {
      "tags": []
     },
     "output_type": "execute_result"
    }
   ],
   "source": [
    "#balanced accuracy for validation\n",
    "balanced_accuracy_score(y_val, predVal)"
   ]
  },
  {
   "cell_type": "code",
   "execution_count": null,
   "metadata": {
    "colab": {
     "base_uri": "https://localhost:8080/"
    },
    "id": "tcl-GdD9ti67",
    "outputId": "275dd353-e079-4a8d-bc96-6fa49bdc9886"
   },
   "outputs": [
    {
     "name": "stdout",
     "output_type": "stream",
     "text": [
      "[[16596  3960  1945   754]\n",
      " [ 3697 20532  3447  1075]\n",
      " [  511  3617  7008   643]\n",
      " [  435  1340   872   310]]\n"
     ]
    }
   ],
   "source": [
    "#confusion Matrix  --- can see now that the last column for q4 is present\n",
    "treeGS = confusion_matrix(y_val, predVal)\n",
    "print(treeGS)"
   ]
  },
  {
   "cell_type": "code",
   "execution_count": null,
   "metadata": {
    "colab": {
     "base_uri": "https://localhost:8080/",
     "height": 256
    },
    "id": "zLw_s7vL0Xsj",
    "outputId": "078b141b-527e-496c-898c-c0c43e27f9e6"
   },
   "outputs": [
    {
     "data": {
      "image/png": "[encoded data removed]",
      "text/plain": [
       "<Figure size 288x288 with 2 Axes>"
      ]
     },
     "metadata": {
      "tags": []
     },
     "output_type": "display_data"
    }
   ],
   "source": [
    "#confusion matrix visualization \n",
    "%matplotlib inline\n",
    "plt.matshow(treeGS)\n",
    "plt.title('Confusion matrix')\n",
    "plt.colorbar()\n",
    "plt.ylabel('Actual')\n",
    "plt.xlabel('Predicted')\n",
    "plt.show()"
   ]
  },
  {
   "cell_type": "code",
   "execution_count": null,
   "metadata": {
    "colab": {
     "base_uri": "https://localhost:8080/",
     "height": 326
    },
    "id": "qWQ8Flmk0AIG",
    "outputId": "8e683761-061f-4714-c0d7-388562115c99"
   },
   "outputs": [
    {
     "data": {
      "image/png": "[encoded data removed]",
      "text/plain": [
       "<Figure size 432x288 with 1 Axes>"
      ]
     },
     "metadata": {
      "tags": []
     },
     "output_type": "display_data"
    }
   ],
   "source": [
    "#confusion matrix visualization  2\n",
    "confusion_matrix =  pd.crosstab(index=y_val, columns=predVal.ravel(), rownames=['Expected'], colnames=['Predicted'])\n",
    "sns.heatmap(confusion_matrix, annot=True, square=False, fmt='', cbar=False)\n",
    "plt.title(\"Confusion Matrix\", fontsize = 50)\n",
    "plt.show()"
   ]
  },
  {
   "cell_type": "code",
   "execution_count": null,
   "metadata": {
    "colab": {
     "base_uri": "https://localhost:8080/"
    },
    "id": "Pdv610Z80o7u",
    "outputId": "336eda08-bc2b-4460-e2f0-7838d64031c4"
   },
   "outputs": [
    {
     "name": "stdout",
     "output_type": "stream",
     "text": [
      "              precision    recall  f1-score   support\n",
      "\n",
      "          q1       0.78      0.71      0.75     23255\n",
      "          q2       0.70      0.71      0.71     28751\n",
      "          q3       0.53      0.59      0.56     11779\n",
      "          q4       0.11      0.10      0.11      2957\n",
      "\n",
      "    accuracy                           0.67     66742\n",
      "   macro avg       0.53      0.53      0.53     66742\n",
      "weighted avg       0.67      0.67      0.67     66742\n",
      "\n"
     ]
    }
   ],
   "source": [
    "#Q4 is performing better than model before. \n",
    "\n",
    "print(classification_report(y_val, predVal))\n"
   ]
  },
  {
   "cell_type": "markdown",
   "metadata": {
    "id": "l1YR4sVqlGej"
   },
   "source": [
    "**without class weight as balanced**"
   ]
  },
  {
   "cell_type": "code",
   "execution_count": null,
   "metadata": {
    "colab": {
     "base_uri": "https://localhost:8080/"
    },
    "id": "Lobal5jai_Dh",
    "outputId": "0b90d1f0-c0ed-48b1-ed7c-c637cf94e444"
   },
   "outputs": [
    {
     "data": {
      "text/plain": [
       "SVC(C=1.0, break_ties=False, cache_size=200, class_weight=None, coef0=0.0,\n",
       "    decision_function_shape='ovr', degree=3, gamma='scale', kernel='rbf',\n",
       "    max_iter=-1, probability=False, random_state=None, shrinking=True,\n",
       "    tol=0.001, verbose=False)"
      ]
     },
     "execution_count": 19,
     "metadata": {
      "tags": []
     },
     "output_type": "execute_result"
    }
   ],
   "source": [
    "#create same model2 without class weight as balance \n",
    "from sklearn.svm import SVC # \"Support vector classifier\"\n",
    "model3 = SVC()  \n",
    "model3.fit(X_train, y_train)"
   ]
  },
  {
   "cell_type": "code",
   "execution_count": null,
   "metadata": {
    "id": "km0dw03fmrkf"
   },
   "outputs": [],
   "source": [
    "#Predict for training\n",
    "predTrain = model3.predict(X_train)\n",
    " "
   ]
  },
  {
   "cell_type": "code",
   "execution_count": null,
   "metadata": {
    "colab": {
     "base_uri": "https://localhost:8080/"
    },
    "id": "2G32At1OxBol",
    "outputId": "be468758-a81d-403b-a88a-9915d9833d18"
   },
   "outputs": [
    {
     "data": {
      "text/plain": [
       "0.711605885349555"
      ]
     },
     "execution_count": 21,
     "metadata": {
      "tags": []
     },
     "output_type": "execute_result"
    }
   ],
   "source": [
    "#accuracy for training\n",
    "metrics.accuracy_score(y_true = y_train, y_pred = predTrain)"
   ]
  },
  {
   "cell_type": "code",
   "execution_count": null,
   "metadata": {
    "colab": {
     "base_uri": "https://localhost:8080/"
    },
    "id": "mI9aycxNxBxm",
    "outputId": "76a38f87-254d-4a84-9b5a-fad34e6bad6f"
   },
   "outputs": [
    {
     "data": {
      "text/plain": [
       "0.5222045234997426"
      ]
     },
     "execution_count": 22,
     "metadata": {
      "tags": []
     },
     "output_type": "execute_result"
    }
   ],
   "source": [
    "#balanced accuracy for training\n",
    "balanced_accuracy_score(y_train, predTrain)"
   ]
  },
  {
   "cell_type": "code",
   "execution_count": null,
   "metadata": {
    "id": "YkJUniTs8We3"
   },
   "outputs": [],
   "source": [
    "#predict for validation \n",
    "predVal = model3.predict(X_val)"
   ]
  },
  {
   "cell_type": "code",
   "execution_count": null,
   "metadata": {
    "colab": {
     "base_uri": "https://localhost:8080/"
    },
    "id": "Lz_3H8Ev8Wt4",
    "outputId": "35ea9eb7-7ffe-4356-8670-835215482c75"
   },
   "outputs": [
    {
     "data": {
      "text/plain": [
       "0.7029007221839322"
      ]
     },
     "execution_count": 55,
     "metadata": {
      "tags": []
     },
     "output_type": "execute_result"
    }
   ],
   "source": [
    "#accuracy for validation \n",
    "metrics.accuracy_score(y_true = y_val, y_pred = predVal)"
   ]
  },
  {
   "cell_type": "code",
   "execution_count": null,
   "metadata": {
    "colab": {
     "base_uri": "https://localhost:8080/"
    },
    "id": "yhIsk-Iu8W44",
    "outputId": "4a171ab1-b0d9-41de-c2cc-5d64ab26143b"
   },
   "outputs": [
    {
     "data": {
      "text/plain": [
       "0.5152627669811356"
      ]
     },
     "execution_count": 56,
     "metadata": {
      "tags": []
     },
     "output_type": "execute_result"
    }
   ],
   "source": [
    "#balanced accuracy for validation\n",
    "balanced_accuracy_score(y_val, predVal)"
   ]
  },
  {
   "cell_type": "code",
   "execution_count": null,
   "metadata": {
    "colab": {
     "base_uri": "https://localhost:8080/",
     "height": 326
    },
    "id": "FUC9ARmw8brZ",
    "outputId": "5ac50348-ef3e-4bb5-a0f1-aa4f9cbbee36"
   },
   "outputs": [
    {
     "data": {
      "image/png": "[encoded data removed]",
      "text/plain": [
       "<Figure size 432x288 with 1 Axes>"
      ]
     },
     "metadata": {
      "tags": []
     },
     "output_type": "display_data"
    }
   ],
   "source": [
    "# same issue as before as the class weight shows the q4 not have any classification. \n",
    "# therefore will keep class weight as balanced  (this is hyper paramter turning)\n",
    "\n",
    "confusion_matrix =  pd.crosstab(index=y_val, columns=predVal.ravel(), rownames=['Expected'], colnames=['Predicted'])\n",
    "sns.heatmap(confusion_matrix, annot=True, square=False, fmt='', cbar=False)\n",
    "plt.title(\"Confusion Matrix\", fontsize = 50)\n",
    "plt.show()"
   ]
  },
  {
   "cell_type": "code",
   "execution_count": null,
   "metadata": {
    "colab": {
     "base_uri": "https://localhost:8080/"
    },
    "id": "T1Yvk4Sw8doM",
    "outputId": "d3ba4f2b-b5bb-46ea-dbac-fb2bec0d50d0"
   },
   "outputs": [
    {
     "name": "stderr",
     "output_type": "stream",
     "text": [
      "/usr/local/lib/python3.7/dist-packages/sklearn/metrics/_classification.py:1272: UndefinedMetricWarning: Precision and F-score are ill-defined and being set to 0.0 in labels with no predicted samples. Use `zero_division` parameter to control this behavior.\n",
      "  _warn_prf(average, modifier, msg_start, len(result))\n"
     ]
    },
    {
     "name": "stdout",
     "output_type": "stream",
     "text": [
      "              precision    recall  f1-score   support\n",
      "\n",
      "          q1       0.79      0.73      0.76     23255\n",
      "          q2       0.67      0.84      0.75     28751\n",
      "          q3       0.63      0.49      0.55     11779\n",
      "          q4       0.00      0.00      0.00      2957\n",
      "\n",
      "    accuracy                           0.70     66742\n",
      "   macro avg       0.52      0.52      0.51     66742\n",
      "weighted avg       0.67      0.70      0.68     66742\n",
      "\n"
     ]
    }
   ],
   "source": [
    "print(classification_report(y_val, predVal))"
   ]
  },
  {
   "cell_type": "code",
   "execution_count": 33,
   "metadata": {
    "colab": {
     "base_uri": "https://localhost:8080/"
    },
    "id": "OhFlwf1fnjUn",
    "outputId": "2db07b09-278d-4815-f52d-ba76e3578eb3"
   },
   "outputs": [
    {
     "data": {
      "text/plain": [
       "SVC(C=0.5, break_ties=False, cache_size=200, class_weight='balanced', coef0=0.0,\n",
       "    decision_function_shape='ovr', degree=3, gamma='scale', kernel='rbf',\n",
       "    max_iter=-1, probability=False, random_state=None, shrinking=True,\n",
       "    tol=0.001, verbose=False)"
      ]
     },
     "execution_count": 33,
     "metadata": {},
     "output_type": "execute_result"
    }
   ],
   "source": [
    "#create same model2 with class weight as balance and fine tuning C\n",
    "from sklearn.svm import SVC # \"Support vector classifier\"\n",
    "model3a = SVC(C= .5, class_weight = 'balanced')  \n",
    "model3a.fit(X_train, y_train)"
   ]
  },
  {
   "cell_type": "code",
   "execution_count": 34,
   "metadata": {
    "id": "hNhGWBWaoh-d"
   },
   "outputs": [],
   "source": [
    "#Predict for training\n",
    "predTrain = model3a.predict(X_train)"
   ]
  },
  {
   "cell_type": "code",
   "execution_count": 35,
   "metadata": {
    "colab": {
     "base_uri": "https://localhost:8080/"
    },
    "id": "dEAwj4noosWE",
    "outputId": "96d585cf-eaa6-4cfd-9dd7-a0aa63bbaacb"
   },
   "outputs": [
    {
     "data": {
      "text/plain": [
       "0.6819394084684307"
      ]
     },
     "execution_count": 35,
     "metadata": {},
     "output_type": "execute_result"
    }
   ],
   "source": [
    "#accuracy for training\n",
    "metrics.accuracy_score(y_true = y_train, y_pred = predTrain)"
   ]
  },
  {
   "cell_type": "code",
   "execution_count": 36,
   "metadata": {
    "colab": {
     "base_uri": "https://localhost:8080/"
    },
    "id": "S02x68cHotBK",
    "outputId": "91fa323b-c49e-4542-d9a7-03cdfd46d62f"
   },
   "outputs": [
    {
     "data": {
      "text/plain": [
       "0.5524317556689847"
      ]
     },
     "execution_count": 36,
     "metadata": {},
     "output_type": "execute_result"
    }
   ],
   "source": [
    "#balanced accuracy for training\n",
    "balanced_accuracy_score(y_train, predTrain)"
   ]
  },
  {
   "cell_type": "code",
   "execution_count": 37,
   "metadata": {
    "id": "ezhiRpNxo3ei"
   },
   "outputs": [],
   "source": [
    "#predict for validation \n",
    "predVal = model3a.predict(X_val)"
   ]
  },
  {
   "cell_type": "code",
   "execution_count": 38,
   "metadata": {
    "colab": {
     "base_uri": "https://localhost:8080/"
    },
    "id": "VcOgWOSeo82c",
    "outputId": "27f909eb-7103-480d-85b3-1eb7a2aa660f"
   },
   "outputs": [
    {
     "data": {
      "text/plain": [
       "0.6681999340744958"
      ]
     },
     "execution_count": 38,
     "metadata": {},
     "output_type": "execute_result"
    }
   ],
   "source": [
    "#accuracy for validation \n",
    "metrics.accuracy_score(y_true = y_val, y_pred = predVal)"
   ]
  },
  {
   "cell_type": "code",
   "execution_count": 39,
   "metadata": {
    "colab": {
     "base_uri": "https://localhost:8080/"
    },
    "id": "KFl8AuxMo9jY",
    "outputId": "bc0da1d5-42db-4a33-b1b3-0b59708f2bac"
   },
   "outputs": [
    {
     "data": {
      "text/plain": [
       "0.5282270727980234"
      ]
     },
     "execution_count": 39,
     "metadata": {},
     "output_type": "execute_result"
    }
   ],
   "source": [
    "#balanced accuracy for validation\n",
    "balanced_accuracy_score(y_val, predVal)"
   ]
  },
  {
   "cell_type": "code",
   "execution_count": 40,
   "metadata": {},
   "outputs": [
    {
     "name": "stdout",
     "output_type": "stream",
     "text": [
      "[[16464  4124  2134   533]\n",
      " [ 3705 20736  3637   673]\n",
      " [  511  3586  7177   505]\n",
      " [  437  1380   920   220]]\n",
      "              precision    recall  f1-score   support\n",
      "\n",
      "          q1       0.78      0.71      0.74     23255\n",
      "          q2       0.70      0.72      0.71     28751\n",
      "          q3       0.52      0.61      0.56     11779\n",
      "          q4       0.11      0.07      0.09      2957\n",
      "\n",
      "    accuracy                           0.67     66742\n",
      "   macro avg       0.53      0.53      0.52     66742\n",
      "weighted avg       0.67      0.67      0.67     66742\n",
      "\n"
     ]
    }
   ],
   "source": [
    "treeGS = confusion_matrix(y_val, predVal)\n",
    "print(treeGS)\n",
    "print(classification_report(y_val, predVal))"
   ]
  },
  {
   "cell_type": "code",
   "execution_count": null,
   "metadata": {},
   "outputs": [],
   "source": []
  },
  {
   "cell_type": "code",
   "execution_count": 24,
   "metadata": {
    "colab": {
     "base_uri": "https://localhost:8080/"
    },
    "id": "FXQuaE4npL0e",
    "outputId": "6034d544-c339-4d36-e357-a37cbcd6b2e2"
   },
   "outputs": [
    {
     "data": {
      "text/plain": [
       "SVC(C=10, break_ties=False, cache_size=200, class_weight='balanced', coef0=0.0,\n",
       "    decision_function_shape='ovr', degree=3, gamma='scale', kernel='rbf',\n",
       "    max_iter=-1, probability=False, random_state=None, shrinking=True,\n",
       "    tol=0.001, verbose=False)"
      ]
     },
     "execution_count": 24,
     "metadata": {},
     "output_type": "execute_result"
    }
   ],
   "source": [
    "#create same model2 with class weight as balance and fine tuning C as .05\n",
    "from sklearn.svm import SVC # \"Support vector classifier\"\n",
    "model3a = SVC(C= 10, class_weight = 'balanced')  #need to change kernel to another type from the default\n",
    "model3a.fit(X_train, y_train)"
   ]
  },
  {
   "cell_type": "code",
   "execution_count": 25,
   "metadata": {
    "id": "XpP0IQCZpROG"
   },
   "outputs": [],
   "source": [
    "#Predict for training\n",
    "predTrain = model3a.predict(X_train)"
   ]
  },
  {
   "cell_type": "code",
   "execution_count": 26,
   "metadata": {
    "id": "LV-QLQQQq_rf"
   },
   "outputs": [
    {
     "data": {
      "text/plain": [
       "0.697506817296455"
      ]
     },
     "execution_count": 26,
     "metadata": {},
     "output_type": "execute_result"
    }
   ],
   "source": [
    "#accuracy for training\n",
    "metrics.accuracy_score(y_true = y_train, y_pred = predTrain)"
   ]
  },
  {
   "cell_type": "code",
   "execution_count": 27,
   "metadata": {
    "colab": {
     "base_uri": "https://localhost:8080/"
    },
    "id": "3uq_BLH5pV-t",
    "outputId": "8ef45aaf-3a74-4400-f281-671d23891e97"
   },
   "outputs": [
    {
     "data": {
      "text/plain": [
       "0.6345876785977683"
      ]
     },
     "execution_count": 27,
     "metadata": {},
     "output_type": "execute_result"
    }
   ],
   "source": [
    "#balanced accuracy for training\n",
    "balanced_accuracy_score(y_train, predTrain)"
   ]
  },
  {
   "cell_type": "code",
   "execution_count": 28,
   "metadata": {
    "id": "XG3rFMISpXK3"
   },
   "outputs": [],
   "source": [
    "#predict for validation \n",
    "predVal = model3a.predict(X_val)"
   ]
  },
  {
   "cell_type": "code",
   "execution_count": 29,
   "metadata": {
    "colab": {
     "base_uri": "https://localhost:8080/"
    },
    "id": "56224cH-pck-",
    "outputId": "5791895f-09d3-40d9-a357-6ffe5ad2d741"
   },
   "outputs": [
    {
     "data": {
      "text/plain": [
       "0.6464595007641365"
      ]
     },
     "execution_count": 29,
     "metadata": {},
     "output_type": "execute_result"
    }
   ],
   "source": [
    "#accuracy for validation \n",
    "metrics.accuracy_score(y_true = y_val, y_pred = predVal)"
   ]
  },
  {
   "cell_type": "code",
   "execution_count": 30,
   "metadata": {
    "colab": {
     "base_uri": "https://localhost:8080/"
    },
    "id": "FgvR-ZZIpddJ",
    "outputId": "fad40c19-17b9-4005-9de1-5cc1af2fcd3e"
   },
   "outputs": [
    {
     "data": {
      "text/plain": [
       "0.5268335739465619"
      ]
     },
     "execution_count": 30,
     "metadata": {},
     "output_type": "execute_result"
    }
   ],
   "source": [
    "#balanced accuracy for validation\n",
    "balanced_accuracy_score(y_val, predVal)"
   ]
  },
  {
   "cell_type": "code",
   "execution_count": 32,
   "metadata": {},
   "outputs": [
    {
     "name": "stdout",
     "output_type": "stream",
     "text": [
      "[[16919  3573  1487  1276]\n",
      " [ 3944 19242  3307  2258]\n",
      " [  635  3422  6521  1201]\n",
      " [  471  1253   769   464]]\n",
      "              precision    recall  f1-score   support\n",
      "\n",
      "          q1       0.77      0.73      0.75     23255\n",
      "          q2       0.70      0.67      0.68     28751\n",
      "          q3       0.54      0.55      0.55     11779\n",
      "          q4       0.09      0.16      0.11      2957\n",
      "\n",
      "    accuracy                           0.65     66742\n",
      "   macro avg       0.52      0.53      0.52     66742\n",
      "weighted avg       0.67      0.65      0.66     66742\n",
      "\n"
     ]
    }
   ],
   "source": [
    "treeGS = confusion_matrix(y_val, predVal)\n",
    "print(treeGS)\n",
    "print(classification_report(y_val, predVal))"
   ]
  },
  {
   "cell_type": "code",
   "execution_count": null,
   "metadata": {},
   "outputs": [],
   "source": []
  },
  {
   "cell_type": "code",
   "execution_count": 42,
   "metadata": {
    "id": "ysdchbFNW9Ya"
   },
   "outputs": [
    {
     "name": "stdout",
     "output_type": "stream",
     "text": [
      "report for gamma as\n",
      "0.01\n",
      "              precision    recall  f1-score   support\n",
      "\n",
      "          q1       0.78      0.69      0.73     23255\n",
      "          q2       0.68      0.72      0.70     28751\n",
      "          q3       0.50      0.66      0.57     11779\n",
      "          q4       0.00      0.00      0.00      2957\n",
      "\n",
      "    accuracy                           0.67     66742\n",
      "   macro avg       0.49      0.52      0.50     66742\n",
      "weighted avg       0.65      0.67      0.66     66742\n",
      "\n",
      "[[15933  4777  2537     8]\n",
      " [ 3635 20819  4289     8]\n",
      " [  545  3451  7783     0]\n",
      " [  432  1422  1103     0]]\n",
      "report for gamma as\n",
      "0.1\n",
      "              precision    recall  f1-score   support\n",
      "\n",
      "          q1       0.78      0.72      0.75     23255\n",
      "          q2       0.70      0.70      0.70     28751\n",
      "          q3       0.53      0.59      0.56     11779\n",
      "          q4       0.10      0.12      0.11      2957\n",
      "\n",
      "    accuracy                           0.66     66742\n",
      "   macro avg       0.53      0.53      0.53     66742\n",
      "weighted avg       0.67      0.66      0.66     66742\n",
      "\n",
      "[[16755  3755  1813   932]\n",
      " [ 3823 19993  3454  1481]\n",
      " [  538  3535  6905   801]\n",
      " [  441  1301   846   369]]\n",
      "report for gamma as\n",
      "1\n",
      "              precision    recall  f1-score   support\n",
      "\n",
      "          q1       0.69      0.76      0.72     23255\n",
      "          q2       0.67      0.65      0.66     28751\n",
      "          q3       0.53      0.50      0.52     11779\n",
      "          q4       0.10      0.06      0.08      2957\n",
      "\n",
      "    accuracy                           0.64     66742\n",
      "   macro avg       0.50      0.50      0.49     66742\n",
      "weighted avg       0.63      0.64      0.63     66742\n",
      "\n",
      "[[17789  3887  1160   419]\n",
      " [ 5909 18733  3305   804]\n",
      " [ 1507  3872  5914   486]\n",
      " [  703  1273   796   185]]\n",
      "report for gamma as\n",
      "10\n",
      "              precision    recall  f1-score   support\n",
      "\n",
      "          q1       0.82      0.04      0.07     23255\n",
      "          q2       0.44      0.99      0.61     28751\n",
      "          q3       0.53      0.02      0.05     11779\n",
      "          q4       0.22      0.01      0.02      2957\n",
      "\n",
      "    accuracy                           0.44     66742\n",
      "   macro avg       0.50      0.27      0.19     66742\n",
      "weighted avg       0.58      0.44      0.29     66742\n",
      "\n",
      "[[  851 22343    30    31]\n",
      " [  124 28419   178    30]\n",
      " [   37 11404   288    50]\n",
      " [   21  2857    47    32]]\n"
     ]
    }
   ],
   "source": [
    "gammaScores = dict()\n",
    "for g in [.01,.1,1,10]:\n",
    "    #testing different gammes\n",
    "    model3g = SVC(C= 1, gamma= g,  class_weight = 'balanced' )  #need to change kernel to another type from the default\n",
    "    model3g.fit(X_train, y_train)\n",
    "    #Predict for training\n",
    "    predTrain = model3g.predict(X_train)\n",
    "    #accuracy for training\n",
    "    TrainAcc = metrics.accuracy_score(y_true = y_train, y_pred = predTrain)\n",
    "    #balanced accuracy for training\n",
    "    TrainBalAcc = balanced_accuracy_score(y_train, predTrain)\n",
    "    #predict for validation \n",
    "    predVal = model3g.predict(X_val)\n",
    "    #accuracy for validation \n",
    "    ValAcc = metrics.accuracy_score(y_true = y_val, y_pred = predVal)\n",
    "    #balanced accuracy for validation\n",
    "    ValBalAcc = balanced_accuracy_score(y_val, predVal)\n",
    "    print('report for gamma as')\n",
    "    print(g)\n",
    "    print(classification_report(y_val, predVal))\n",
    "    treeGS = confusion_matrix(y_val, predVal)\n",
    "    print(treeGS)\n",
    "    gammaScores[g] = (TrainAcc , TrainBalAcc , ValAcc, ValBalAcc)\n"
   ]
  },
  {
   "cell_type": "code",
   "execution_count": 43,
   "metadata": {
    "colab": {
     "base_uri": "https://localhost:8080/"
    },
    "id": "k-W96QHy1zyc",
    "outputId": "57dfb29f-9471-45cb-a1ce-4831d6d44db2"
   },
   "outputs": [
    {
     "name": "stdout",
     "output_type": "stream",
     "text": [
      "{0.01: (0.6699829193011897, 0.5196109958493591, 0.6672709837883192, 0.5175022774902546), 0.1: (0.6876629408768092, 0.5896665498434324, 0.6595846693236642, 0.5317190285404186), 1: (0.8700218752809326, 0.8999783309046099, 0.638593389469899, 0.49528927520410637), 10: (0.9949956549099518, 0.9962830974482116, 0.443349015612358, 0.2650797320216115)}\n"
     ]
    }
   ],
   "source": [
    "print(gammaScores)"
   ]
  },
  {
   "cell_type": "code",
   "execution_count": null,
   "metadata": {
    "id": "RdsfzcpbauVp"
   },
   "outputs": [],
   "source": [
    "#gammaScores = dict()\n",
    "#model3g = SVC(C= 1, gamma= .01 )  #need to change kernel to another type from the default\n",
    "#model3g.fit(X_train, y_train)\n",
    "#Predict for training\n",
    "#predTrain = model3g.predict(X_train)\n",
    "#accuracy for training\n",
    "#TrainAcc = metrics.accuracy_score(y_true = y_train, y_pred = predTrain)\n",
    "#balanced accuracy for training\n",
    "#TrainBalAcc = balanced_accuracy_score(y_train, predTrain)\n",
    "#predict for validation \n",
    "#predVal = model3g.predict(X_val)\n",
    "#accuracy for validation \n",
    "#ValAcc = metrics.accuracy_score(y_true = y_val, y_pred = predVal)\n",
    "#balanced accuracy for validation\n",
    "#ValBalAcc = balanced_accuracy_score(y_val, predVal)\n",
    "#gammaScores[g] = (TrainAcc , TrainBalAcc , ValAcc, ValBalAcc)"
   ]
  },
  {
   "cell_type": "code",
   "execution_count": 44,
   "metadata": {
    "colab": {
     "base_uri": "https://localhost:8080/"
    },
    "id": "FhqUThno7_Zy",
    "outputId": "d1bee36d-f377-4114-af32-baeafdaa92f1"
   },
   "outputs": [
    {
     "data": {
      "text/plain": [
       "SVC(C=1.0, break_ties=False, cache_size=200, class_weight='balanced', coef0=0.0,\n",
       "    decision_function_shape='ovr', degree=3, gamma='scale', kernel='linear',\n",
       "    max_iter=-1, probability=False, random_state=None, shrinking=True,\n",
       "    tol=0.001, verbose=False)"
      ]
     },
     "execution_count": 44,
     "metadata": {},
     "output_type": "execute_result"
    }
   ],
   "source": [
    "#use linear SVC\n",
    "from sklearn.svm import SVC # \"Support vector classifier\"\n",
    "model6 = SVC(kernel = 'linear', class_weight = 'balanced')  \n",
    "model6.fit(X_train, y_train)\n"
   ]
  },
  {
   "cell_type": "code",
   "execution_count": 45,
   "metadata": {
    "id": "kiB6zfUq8Dd_"
   },
   "outputs": [],
   "source": [
    "#Predict for training\n",
    "predTrain = model6.predict(X_train)\n",
    "\n",
    "# took 1 minish to process while using colab GPU"
   ]
  },
  {
   "cell_type": "code",
   "execution_count": 46,
   "metadata": {
    "colab": {
     "base_uri": "https://localhost:8080/"
    },
    "id": "px0O5oMs8GDy",
    "outputId": "3baf665e-b79a-4010-8086-333ffa56d182"
   },
   "outputs": [
    {
     "data": {
      "text/plain": [
       "0.5899583470678134"
      ]
     },
     "execution_count": 46,
     "metadata": {},
     "output_type": "execute_result"
    }
   ],
   "source": [
    "#accuracy for training\n",
    "metrics.accuracy_score(y_true = y_train, y_pred = predTrain)"
   ]
  },
  {
   "cell_type": "code",
   "execution_count": 47,
   "metadata": {
    "colab": {
     "base_uri": "https://localhost:8080/"
    },
    "id": "GTdQWpV08ICz",
    "outputId": "9e85b9f5-a69f-48d9-f0b9-97815e5544fe"
   },
   "outputs": [
    {
     "data": {
      "text/plain": [
       "0.4789347611318503"
      ]
     },
     "execution_count": 47,
     "metadata": {},
     "output_type": "execute_result"
    }
   ],
   "source": [
    "#balanced accuracy for training\n",
    "balanced_accuracy_score(y_train, predTrain)"
   ]
  },
  {
   "cell_type": "code",
   "execution_count": 48,
   "metadata": {
    "id": "4HRoWFZu8KDX"
   },
   "outputs": [],
   "source": [
    "#predict for validation \n",
    "predVal = model6.predict(X_val)\n"
   ]
  },
  {
   "cell_type": "code",
   "execution_count": 49,
   "metadata": {
    "colab": {
     "base_uri": "https://localhost:8080/"
    },
    "id": "SPGDK3hr8M4A",
    "outputId": "fb010fbf-270b-4c3a-de7f-61d7a79ef7ce"
   },
   "outputs": [
    {
     "data": {
      "text/plain": [
       "0.5885948877768122"
      ]
     },
     "execution_count": 49,
     "metadata": {},
     "output_type": "execute_result"
    }
   ],
   "source": [
    "#accuracy for validation \n",
    "metrics.accuracy_score(y_true = y_val, y_pred = predVal)"
   ]
  },
  {
   "cell_type": "code",
   "execution_count": 50,
   "metadata": {
    "colab": {
     "base_uri": "https://localhost:8080/"
    },
    "id": "AhRUx1B58PF1",
    "outputId": "fa5afb8a-e576-492c-fc98-447d3d82be5e"
   },
   "outputs": [
    {
     "data": {
      "text/plain": [
       "0.47786987404522374"
      ]
     },
     "execution_count": 50,
     "metadata": {},
     "output_type": "execute_result"
    }
   ],
   "source": [
    "#balanced accuracy for validation\n",
    "balanced_accuracy_score(y_val, predVal)"
   ]
  },
  {
   "cell_type": "code",
   "execution_count": 51,
   "metadata": {
    "colab": {
     "base_uri": "https://localhost:8080/"
    },
    "id": "mj6ItsLriPsn",
    "outputId": "c4dc6db1-3ac0-4068-a710-03cfbeeb986b"
   },
   "outputs": [
    {
     "data": {
      "text/plain": [
       "array([[ 0.41363955,  0.02015181, -0.15732682, -0.01805513, -0.05297638,\n",
       "         0.25400354, -0.01508656,  0.14484691,  0.20960151, -0.02607375,\n",
       "         0.13906127,  0.01044261, -0.09181622, -0.75441066],\n",
       "       [ 0.20244313, -0.07900146, -0.16965907,  0.14958594, -0.12176917,\n",
       "         0.57961704, -0.00554674,  0.21518525, -0.10820857, -0.00859701,\n",
       "         0.15336834,  0.02857491, -0.02898136, -0.96349084],\n",
       "       [ 0.44569708, -0.06982632, -0.15140486,  0.05430162, -0.06734176,\n",
       "         0.37745498, -0.00431471,  0.11302374,  0.10428971, -0.03610238,\n",
       "         0.12591016,  0.01632951, -0.02999317, -0.57555805],\n",
       "       [-0.05322875, -0.04957766,  0.04464424,  0.20746701, -0.03148802,\n",
       "         0.05881833,  0.02092286,  0.06401429, -0.44881303,  0.02195402,\n",
       "         0.08033292,  0.01788765,  0.03070186, -1.30779355],\n",
       "       [-0.14571161, -0.07813482,  0.14245382,  0.22742617, -0.05179935,\n",
       "         0.01443271,  0.03151559, -0.0381789 , -0.45408709,  0.02691189,\n",
       "        -0.0021217 ,  0.02945854,  0.11835376, -0.66043316],\n",
       "       [ 0.0084769 , -0.03040718,  0.06846383, -0.05418413, -0.033561  ,\n",
       "        -0.01131915,  0.00182927, -0.07325101,  0.18571766, -0.00795164,\n",
       "         0.01851987, -0.00705019,  0.03698594,  0.96864684]])"
      ]
     },
     "execution_count": 51,
     "metadata": {},
     "output_type": "execute_result"
    }
   ],
   "source": [
    "model6.coef_"
   ]
  },
  {
   "cell_type": "code",
   "execution_count": 52,
   "metadata": {
    "colab": {
     "base_uri": "https://localhost:8080/"
    },
    "id": "UhJrzC9SjPWE",
    "outputId": "52f8e9c3-11ee-4a72-c722-000341297d60"
   },
   "outputs": [
    {
     "data": {
      "text/plain": [
       "array([[ 1.04702646,  1.22588184, -0.74579336, ..., -1.33471527,\n",
       "         1.2387523 , -1.13622533],\n",
       "       [ 0.73062406, -0.96688811,  3.19456817, ...,  0.3855548 ,\n",
       "        -1.55703969,  1.72589693],\n",
       "       [-0.33515245,  1.27204542, -0.88920889, ...,  0.5857598 ,\n",
       "         1.51151249, -1.09079482],\n",
       "       ...,\n",
       "       [-1.14281121, -0.22250042, -0.39645068, ...,  0.45320063,\n",
       "         1.33724903, -0.31847611],\n",
       "       [-0.65155485, -0.26866399,  0.19924756, ..., -0.94540186,\n",
       "        -0.45842224,  1.49874437],\n",
       "       [-0.21580768,  0.70654159,  0.72404691, ..., -0.78008612,\n",
       "        -1.07592101,  1.18073079]])"
      ]
     },
     "execution_count": 52,
     "metadata": {},
     "output_type": "execute_result"
    }
   ],
   "source": [
    "model6.support_vectors_"
   ]
  },
  {
   "cell_type": "code",
   "execution_count": 53,
   "metadata": {},
   "outputs": [
    {
     "name": "stdout",
     "output_type": "stream",
     "text": [
      "[[15563  3865  3787    40]\n",
      " [ 6656 15558  5818   719]\n",
      " [  810  2681  8131   157]\n",
      " [  657  1077  1191    32]]\n",
      "              precision    recall  f1-score   support\n",
      "\n",
      "          q1       0.66      0.67      0.66     23255\n",
      "          q2       0.67      0.54      0.60     28751\n",
      "          q3       0.43      0.69      0.53     11779\n",
      "          q4       0.03      0.01      0.02      2957\n",
      "\n",
      "    accuracy                           0.59     66742\n",
      "   macro avg       0.45      0.48      0.45     66742\n",
      "weighted avg       0.60      0.59      0.58     66742\n",
      "\n"
     ]
    }
   ],
   "source": [
    "treeGS = confusion_matrix(y_val, predVal)\n",
    "print(treeGS)\n",
    "print(classification_report(y_val, predVal))"
   ]
  },
  {
   "cell_type": "code",
   "execution_count": 54,
   "metadata": {
    "colab": {
     "base_uri": "https://localhost:8080/",
     "height": 326
    },
    "id": "2OqQAcg78Rim",
    "outputId": "661cb9e5-9a25-4ad8-888d-00e2b4c9193c"
   },
   "outputs": [
    {
     "data": {
      "image/png": "[encoded data removed]",
      "text/plain": [
       "<Figure size 432x288 with 1 Axes>"
      ]
     },
     "metadata": {
      "needs_background": "light"
     },
     "output_type": "display_data"
    }
   ],
   "source": [
    "confusion_matrix =  pd.crosstab(index=y_val, columns=predVal.ravel(), rownames=['Expected'], colnames=['Predicted'])\n",
    "sns.heatmap(confusion_matrix, annot=True, square=False, fmt='', cbar=False)\n",
    "plt.title(\"Confusion Matrix\", fontsize = 50)\n",
    "plt.show()"
   ]
  },
  {
   "cell_type": "code",
   "execution_count": 58,
   "metadata": {},
   "outputs": [
    {
     "data": {
      "text/plain": [
       "Index(['acousticness', 'danceability', 'duration_ms', 'energy', 'explicit',\n",
       "       'instrumentalness', 'key', 'liveness', 'loudness', 'mode',\n",
       "       'speechiness', 'tempo', 'valence', 'year'],\n",
       "      dtype='object')"
      ]
     },
     "execution_count": 58,
     "metadata": {},
     "output_type": "execute_result"
    }
   ],
   "source": [
    "X_numeric.columns"
   ]
  },
  {
   "cell_type": "code",
   "execution_count": 66,
   "metadata": {},
   "outputs": [
    {
     "data": {
      "text/plain": [
       "0.9988059314333774"
      ]
     },
     "execution_count": 66,
     "metadata": {},
     "output_type": "execute_result"
    }
   ],
   "source": [
    "X_val.var()"
   ]
  },
  {
   "cell_type": "code",
   "execution_count": 67,
   "metadata": {},
   "outputs": [
    {
     "data": {
      "text/plain": [
       "14"
      ]
     },
     "execution_count": 67,
     "metadata": {},
     "output_type": "execute_result"
    }
   ],
   "source": [
    "len(X_numeric.columns) "
   ]
  },
  {
   "cell_type": "code",
   "execution_count": 69,
   "metadata": {},
   "outputs": [
    {
     "data": {
      "text/plain": [
       "0.07151396400506446"
      ]
     },
     "execution_count": 69,
     "metadata": {},
     "output_type": "execute_result"
    }
   ],
   "source": [
    "# gamma scale\n",
    "1 / (len(X_numeric.columns) * X_val.var())"
   ]
  },
  {
   "cell_type": "markdown",
   "metadata": {
    "id": "33KikQ17hK3M"
   },
   "source": [
    " **End of SVC**"
   ]
  }
 ],
 "metadata": {
  "accelerator": "GPU",
  "colab": {
   "collapsed_sections": [],
   "name": "DSC540_Group2_ProjectCode.ipynb",
   "provenance": []
  },
  "kernelspec": {
   "display_name": "Python 3",
   "language": "python",
   "name": "python3"
  },
  "language_info": {
   "codemirror_mode": {
    "name": "ipython",
    "version": 3
   },
   "file_extension": ".py",
   "mimetype": "text/x-python",
   "name": "python",
   "nbconvert_exporter": "python",
   "pygments_lexer": "ipython3",
   "version": "3.7.4"
  }
 },
 "nbformat": 4,
 "nbformat_minor": 1
}
