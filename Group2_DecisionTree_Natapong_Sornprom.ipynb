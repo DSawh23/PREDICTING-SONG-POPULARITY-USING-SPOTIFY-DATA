{
 "cells": [
  {
   "cell_type": "markdown",
   "metadata": {},
   "source": [
    "## Decision Tree Classifiers"
   ]
  },
  {
   "cell_type": "code",
   "execution_count": 1,
   "metadata": {},
   "outputs": [],
   "source": [
    "#ignore warnings\n",
    "import warnings\n",
    "warnings.filterwarnings('ignore')"
   ]
  },
  {
   "cell_type": "code",
   "execution_count": 2,
   "metadata": {},
   "outputs": [],
   "source": [
    "import matplotlib.pyplot as plt\n",
    "import pandas as pd\n",
    "import numpy as np\n",
    "import seaborn as sns\n",
    "\n",
    "from sklearn.model_selection import train_test_split\n",
    "from sklearn import metrics, tree"
   ]
  },
  {
   "cell_type": "code",
   "execution_count": 3,
   "metadata": {},
   "outputs": [],
   "source": [
    "# dataset for train and validation\n",
    "# ready-to-use dataset: scalled + drop val(artist, id, name, release_date)\n",
    "train_and_validation = pd.read_csv('spotify_train.csv', index_col=0)\n",
    "# test set for 0 popularity\n",
    "test = pd.read_csv('spotify_test.csv')"
   ]
  },
  {
   "cell_type": "code",
   "execution_count": 4,
   "metadata": {},
   "outputs": [
    {
     "name": "stdout",
     "output_type": "stream",
     "text": [
      "(133484, 15)\n"
     ]
    },
    {
     "data": {
      "text/html": [
       "<div>\n",
       "<style scoped>\n",
       "    .dataframe tbody tr th:only-of-type {\n",
       "        vertical-align: middle;\n",
       "    }\n",
       "\n",
       "    .dataframe tbody tr th {\n",
       "        vertical-align: top;\n",
       "    }\n",
       "\n",
       "    .dataframe thead th {\n",
       "        text-align: right;\n",
       "    }\n",
       "</style>\n",
       "<table border=\"1\" class=\"dataframe\">\n",
       "  <thead>\n",
       "    <tr style=\"text-align: right;\">\n",
       "      <th></th>\n",
       "      <th>acousticness</th>\n",
       "      <th>danceability</th>\n",
       "      <th>duration_ms</th>\n",
       "      <th>energy</th>\n",
       "      <th>explicit</th>\n",
       "      <th>instrumentalness</th>\n",
       "      <th>key</th>\n",
       "      <th>liveness</th>\n",
       "      <th>loudness</th>\n",
       "      <th>mode</th>\n",
       "      <th>speechiness</th>\n",
       "      <th>tempo</th>\n",
       "      <th>valence</th>\n",
       "      <th>year</th>\n",
       "      <th>popularity</th>\n",
       "    </tr>\n",
       "  </thead>\n",
       "  <tbody>\n",
       "    <tr>\n",
       "      <th>0</th>\n",
       "      <td>0.991000</td>\n",
       "      <td>0.598</td>\n",
       "      <td>168333</td>\n",
       "      <td>0.224</td>\n",
       "      <td>0</td>\n",
       "      <td>0.000522</td>\n",
       "      <td>5</td>\n",
       "      <td>0.3790</td>\n",
       "      <td>-12.628</td>\n",
       "      <td>0</td>\n",
       "      <td>0.0936</td>\n",
       "      <td>149.976</td>\n",
       "      <td>0.6340</td>\n",
       "      <td>1920</td>\n",
       "      <td>q1</td>\n",
       "    </tr>\n",
       "    <tr>\n",
       "      <th>1</th>\n",
       "      <td>0.643000</td>\n",
       "      <td>0.852</td>\n",
       "      <td>150200</td>\n",
       "      <td>0.517</td>\n",
       "      <td>0</td>\n",
       "      <td>0.026400</td>\n",
       "      <td>5</td>\n",
       "      <td>0.0809</td>\n",
       "      <td>-7.261</td>\n",
       "      <td>0</td>\n",
       "      <td>0.0534</td>\n",
       "      <td>86.889</td>\n",
       "      <td>0.9500</td>\n",
       "      <td>1920</td>\n",
       "      <td>q1</td>\n",
       "    </tr>\n",
       "    <tr>\n",
       "      <th>2</th>\n",
       "      <td>0.993000</td>\n",
       "      <td>0.647</td>\n",
       "      <td>163827</td>\n",
       "      <td>0.186</td>\n",
       "      <td>0</td>\n",
       "      <td>0.000018</td>\n",
       "      <td>0</td>\n",
       "      <td>0.5190</td>\n",
       "      <td>-12.098</td>\n",
       "      <td>1</td>\n",
       "      <td>0.1740</td>\n",
       "      <td>97.600</td>\n",
       "      <td>0.6890</td>\n",
       "      <td>1920</td>\n",
       "      <td>q1</td>\n",
       "    </tr>\n",
       "    <tr>\n",
       "      <th>3</th>\n",
       "      <td>0.000173</td>\n",
       "      <td>0.730</td>\n",
       "      <td>422087</td>\n",
       "      <td>0.798</td>\n",
       "      <td>0</td>\n",
       "      <td>0.801000</td>\n",
       "      <td>2</td>\n",
       "      <td>0.1280</td>\n",
       "      <td>-7.311</td>\n",
       "      <td>1</td>\n",
       "      <td>0.0425</td>\n",
       "      <td>127.997</td>\n",
       "      <td>0.0422</td>\n",
       "      <td>1920</td>\n",
       "      <td>q1</td>\n",
       "    </tr>\n",
       "    <tr>\n",
       "      <th>4</th>\n",
       "      <td>0.295000</td>\n",
       "      <td>0.704</td>\n",
       "      <td>165224</td>\n",
       "      <td>0.707</td>\n",
       "      <td>1</td>\n",
       "      <td>0.000246</td>\n",
       "      <td>10</td>\n",
       "      <td>0.4020</td>\n",
       "      <td>-6.036</td>\n",
       "      <td>0</td>\n",
       "      <td>0.0768</td>\n",
       "      <td>122.076</td>\n",
       "      <td>0.2990</td>\n",
       "      <td>1920</td>\n",
       "      <td>q1</td>\n",
       "    </tr>\n",
       "  </tbody>\n",
       "</table>\n",
       "</div>"
      ],
      "text/plain": [
       "   acousticness  danceability  duration_ms  energy  explicit  \\\n",
       "0      0.991000         0.598       168333   0.224         0   \n",
       "1      0.643000         0.852       150200   0.517         0   \n",
       "2      0.993000         0.647       163827   0.186         0   \n",
       "3      0.000173         0.730       422087   0.798         0   \n",
       "4      0.295000         0.704       165224   0.707         1   \n",
       "\n",
       "   instrumentalness  key  liveness  loudness  mode  speechiness    tempo  \\\n",
       "0          0.000522    5    0.3790   -12.628     0       0.0936  149.976   \n",
       "1          0.026400    5    0.0809    -7.261     0       0.0534   86.889   \n",
       "2          0.000018    0    0.5190   -12.098     1       0.1740   97.600   \n",
       "3          0.801000    2    0.1280    -7.311     1       0.0425  127.997   \n",
       "4          0.000246   10    0.4020    -6.036     0       0.0768  122.076   \n",
       "\n",
       "   valence  year popularity  \n",
       "0   0.6340  1920         q1  \n",
       "1   0.9500  1920         q1  \n",
       "2   0.6890  1920         q1  \n",
       "3   0.0422  1920         q1  \n",
       "4   0.2990  1920         q1  "
      ]
     },
     "execution_count": 4,
     "metadata": {},
     "output_type": "execute_result"
    }
   ],
   "source": [
    "print(train_and_validation.shape)\n",
    "train_and_validation.head()"
   ]
  },
  {
   "cell_type": "code",
   "execution_count": 5,
   "metadata": {},
   "outputs": [],
   "source": [
    "X = train_and_validation.drop('popularity', axis=1)\n",
    "y = train_and_validation['popularity']"
   ]
  },
  {
   "cell_type": "code",
   "execution_count": 6,
   "metadata": {},
   "outputs": [
    {
     "name": "stdout",
     "output_type": "stream",
     "text": [
      "X.shape:  (133484, 14)\n",
      "y.shape:  (133484,)\n"
     ]
    },
    {
     "data": {
      "text/plain": [
       "q2    57502\n",
       "q1    46510\n",
       "q3    23558\n",
       "q4     5914\n",
       "Name: popularity, dtype: int64"
      ]
     },
     "execution_count": 6,
     "metadata": {},
     "output_type": "execute_result"
    }
   ],
   "source": [
    "print(\"X.shape: \", X.shape)\n",
    "print(\"y.shape: \", y.shape)\n",
    "y.value_counts()\n",
    "# 4 classes with severe imbalances q4"
   ]
  },
  {
   "cell_type": "markdown",
   "metadata": {},
   "source": [
    "## Experiment plan: \n",
    "#### (1) Default setting \n",
    "#### (2) Gridsearch\n",
    "#### (3) Default model with resampled data\n",
    "#### (4) New gridsearch with resampled data"
   ]
  },
  {
   "cell_type": "markdown",
   "metadata": {},
   "source": [
    "## (1) Default model"
   ]
  },
  {
   "cell_type": "code",
   "execution_count": 9,
   "metadata": {},
   "outputs": [],
   "source": [
    "# Import DecisionTreeClassifier and its metrics\n",
    "from sklearn.tree import DecisionTreeClassifier, plot_tree\n",
    "from sklearn.metrics import recall_score, balanced_accuracy_score, f1_score, precision_score, accuracy_score"
   ]
  },
  {
   "cell_type": "code",
   "execution_count": 10,
   "metadata": {},
   "outputs": [],
   "source": [
    "X_train, X_val, y_train, y_val = train_test_split(X, y, test_size=0.30, random_state=2020)"
   ]
  },
  {
   "cell_type": "code",
   "execution_count": 11,
   "metadata": {},
   "outputs": [
    {
     "name": "stdout",
     "output_type": "stream",
     "text": [
      "Train set\n",
      "Accuracy: 0.9957725978723859\n",
      "Balanced Accuracy:  0.9910643905958434\n",
      "--------------------------------------\n",
      "Validation set\n",
      "Accuracy: 0.5893722219447636\n",
      "Balanced Accuracy:  0.46389838462755434\n"
     ]
    }
   ],
   "source": [
    "# Multiclass classification: q1, q2, q3, q4\n",
    "\n",
    "# Initiate Decision Tree classifer object\n",
    "clf = DecisionTreeClassifier(random_state=2020)\n",
    "# Train Decision Tree Classifer\n",
    "clf = clf.fit(X_train, y_train)\n",
    "\n",
    "#Predict the response for train set\n",
    "y_pred_train1 = clf.predict(X_train)\n",
    "\n",
    "print(\"Train set\")\n",
    "print(\"Accuracy:\", metrics.accuracy_score(y_train, y_pred_train1))\n",
    "print(\"Balanced Accuracy: \", balanced_accuracy_score(y_train, y_pred_train1))\n",
    "print(\"--------------------------------------\")\n",
    "\n",
    "#Predict the response for validation set\n",
    "y_pred_val1 = clf.predict(X_val)\n",
    "\n",
    "print(\"Validation set\")\n",
    "print(\"Accuracy:\", metrics.accuracy_score(y_val, y_pred_val1))\n",
    "print(\"Balanced Accuracy: \", balanced_accuracy_score(y_val, y_pred_val1))"
   ]
  },
  {
   "cell_type": "code",
   "execution_count": 12,
   "metadata": {},
   "outputs": [
    {
     "data": {
      "image/png": "[encoded data removed]",
      "text/plain": [
       "<Figure size 432x288 with 1 Axes>"
      ]
     },
     "metadata": {
      "needs_background": "light"
     },
     "output_type": "display_data"
    }
   ],
   "source": [
    "# Creating confusion matrix\n",
    "confusion_matrix =  pd.crosstab(index=y_val, columns=y_pred_val1, rownames=['Actual'], colnames=['Predicted'])\n",
    "sns.heatmap(confusion_matrix, annot=True, square=False, fmt='', cbar=False)\n",
    "plt.title(\"Confusion Matrix\", fontsize = 15)\n",
    "plt.show()"
   ]
  },
  {
   "cell_type": "code",
   "execution_count": 13,
   "metadata": {},
   "outputs": [
    {
     "name": "stdout",
     "output_type": "stream",
     "text": [
      "              precision    recall  f1-score   support\n",
      "\n",
      "          q1       0.68      0.68      0.68     14037\n",
      "          q2       0.63      0.62      0.62     17141\n",
      "          q3       0.45      0.46      0.46      7056\n",
      "          q4       0.09      0.09      0.09      1812\n",
      "\n",
      "    accuracy                           0.59     40046\n",
      "   macro avg       0.46      0.46      0.46     40046\n",
      "weighted avg       0.59      0.59      0.59     40046\n",
      "\n"
     ]
    }
   ],
   "source": [
    "print(metrics.classification_report(y_val, y_pred_val1))"
   ]
  },
  {
   "cell_type": "code",
   "execution_count": null,
   "metadata": {},
   "outputs": [],
   "source": [
    "'''\n",
    "print(\"Recall: \", recall_score(y_val, y_pred_val))\n",
    "#print(\"Specificity: \", round(1491/(1491+316), 4))\n",
    "print(\"Precision Score: \", precision_score(y_val, y_pred_val))\n",
    "print(\"Balanced Accuracy: \", balanced_accuracy_score(y_val, y_pred_val))\n",
    "print(\"F1 Score: \", f1_score(y_val, y_pred_val))\n",
    "'''"
   ]
  },
  {
   "cell_type": "markdown",
   "metadata": {},
   "source": [
    "## (2) Gridsearch model"
   ]
  },
  {
   "cell_type": "code",
   "execution_count": 14,
   "metadata": {},
   "outputs": [],
   "source": [
    "# import GridSearchCV\n",
    "from sklearn.model_selection import GridSearchCV"
   ]
  },
  {
   "cell_type": "code",
   "execution_count": 15,
   "metadata": {},
   "outputs": [
    {
     "data": {
      "text/plain": [
       "GridSearchCV(cv=10, estimator=DecisionTreeClassifier(random_state=2020),\n",
       "             n_jobs=-1,\n",
       "             param_grid={'max_depth': [4, 6, 8, 10, 12, 14],\n",
       "                         'min_samples_split': [8, 12, 16, 20, 24, 28]},\n",
       "             scoring='balanced_accuracy')"
      ]
     },
     "execution_count": 15,
     "metadata": {},
     "output_type": "execute_result"
    }
   ],
   "source": [
    "# Create the parameter grid based on the results of random search \n",
    "param_grid = {\n",
    "    'max_depth': [4,6,8,10,12,14],\n",
    "    'min_samples_split': [8,12,16,20,24,28]\n",
    "}\n",
    "\n",
    "# Create a base model\n",
    "clf = DecisionTreeClassifier(random_state=2020)\n",
    "\n",
    "# Instantiate the grid search model with cv=10\n",
    "grid_search = GridSearchCV(clf, param_grid, cv=10, scoring='balanced_accuracy', n_jobs=-1)\n",
    "\n",
    "# fit the grid with data\n",
    "grid_search.fit(X_train, y_train)"
   ]
  },
  {
   "cell_type": "code",
   "execution_count": 16,
   "metadata": {},
   "outputs": [
    {
     "name": "stdout",
     "output_type": "stream",
     "text": [
      "Best balanced_accuracy:  0.5225998672608345\n",
      "Best Combined Parameters:  {'max_depth': 10, 'min_samples_split': 20}\n"
     ]
    }
   ],
   "source": [
    "# examine the best model\n",
    "# Single best score achieved across all params\n",
    "print(\"Best balanced_accuracy: \", grid_search.best_score_)\n",
    "\n",
    "# Dictionary containing the parameters used to generate that score\n",
    "print(\"Best Combined Parameters: \", grid_search.best_params_)"
   ]
  },
  {
   "cell_type": "code",
   "execution_count": 17,
   "metadata": {},
   "outputs": [
    {
     "name": "stdout",
     "output_type": "stream",
     "text": [
      "Tuned Model on Train set\n",
      "Accuracy: 0.7238810762216658\n",
      "Balanced Accuracy:  0.5393672293365382\n",
      "--------------------------------------\n",
      "Tuned model on Validation set\n",
      "Accuracy: 0.7031913299705339\n",
      "Balanced Accuracy:  0.5241912087515829\n"
     ]
    }
   ],
   "source": [
    "# Train with best hyperparameters\n",
    "clf_best = DecisionTreeClassifier(max_depth=10, min_samples_split=20, random_state=2020)\n",
    "clf_best = clf_best.fit(X_train, y_train)\n",
    "\n",
    "#Predict the response for train set\n",
    "y_pred_train2 = clf_best.predict(X_train)\n",
    "\n",
    "print(\"Tuned Model on Train set\")\n",
    "print(\"Accuracy:\", metrics.accuracy_score(y_train, y_pred_train2))\n",
    "print(\"Balanced Accuracy: \", balanced_accuracy_score(y_train, y_pred_train2))\n",
    "print(\"--------------------------------------\")\n",
    "\n",
    "#Predict the response for validation set\n",
    "y_pred_val2 = clf_best.predict(X_val)\n",
    "\n",
    "print(\"Tuned model on Validation set\")\n",
    "print(\"Accuracy:\", metrics.accuracy_score(y_val, y_pred_val2))\n",
    "print(\"Balanced Accuracy: \", balanced_accuracy_score(y_val, y_pred_val2))"
   ]
  },
  {
   "cell_type": "code",
   "execution_count": 18,
   "metadata": {},
   "outputs": [
    {
     "data": {
      "image/png": "[encoded data removed]",
      "text/plain": [
       "<Figure size 432x288 with 1 Axes>"
      ]
     },
     "metadata": {
      "needs_background": "light"
     },
     "output_type": "display_data"
    }
   ],
   "source": [
    "# Creating confusion matrix\n",
    "confusion_matrix =  pd.crosstab(index=y_val, columns=y_pred_val2, rownames=['Actual'], colnames=['Predicted'])\n",
    "sns.heatmap(confusion_matrix, annot=True, square=False, fmt='', cbar=False)\n",
    "plt.title(\"Confusion Matrix\", fontsize = 15)\n",
    "plt.show()"
   ]
  },
  {
   "cell_type": "code",
   "execution_count": 19,
   "metadata": {},
   "outputs": [
    {
     "name": "stdout",
     "output_type": "stream",
     "text": [
      "              precision    recall  f1-score   support\n",
      "\n",
      "          q1       0.77      0.73      0.75     14037\n",
      "          q2       0.68      0.83      0.75     17141\n",
      "          q3       0.63      0.52      0.57      7056\n",
      "          q4       0.37      0.02      0.03      1812\n",
      "\n",
      "    accuracy                           0.70     40046\n",
      "   macro avg       0.61      0.52      0.53     40046\n",
      "weighted avg       0.69      0.70      0.69     40046\n",
      "\n"
     ]
    }
   ],
   "source": [
    "print(metrics.classification_report(y_val, y_pred_val2))"
   ]
  },
  {
   "cell_type": "markdown",
   "metadata": {},
   "source": [
    "### Summarized table between the default model and tuned model"
   ]
  },
  {
   "cell_type": "code",
   "execution_count": 20,
   "metadata": {},
   "outputs": [
    {
     "name": "stdout",
     "output_type": "stream",
     "text": [
      "Accuracy\n",
      "+----+------------+-----------------+---------------+\n",
      "|    | Model      |   Default Model |   Tuned Model |\n",
      "|----+------------+-----------------+---------------|\n",
      "|  0 | Train      |        0.995773 |      0.723881 |\n",
      "|  1 | Validation |        0.589372 |      0.703191 |\n",
      "+----+------------+-----------------+---------------+\n",
      "Balanced Accuracy\n",
      "+----+------------+-----------------+---------------+\n",
      "|    | Model      |   Default Model |   Tuned Model |\n",
      "|----+------------+-----------------+---------------|\n",
      "|  0 | Train      |        0.991064 |      0.539367 |\n",
      "|  1 | Validation |        0.463898 |      0.524191 |\n",
      "+----+------------+-----------------+---------------+\n"
     ]
    }
   ],
   "source": [
    "# importing the modules \n",
    "from tabulate import tabulate \n",
    "print(\"Accuracy\")\n",
    "# creating a DataFrame \n",
    "dict = {'Model':['Train', 'Validation'], \n",
    "        'Default Model':[metrics.accuracy_score(y_train, y_pred_train1), metrics.accuracy_score(y_val, y_pred_val1)],\n",
    "        'Tuned Model':[metrics.accuracy_score(y_train, y_pred_train2), metrics.accuracy_score(y_val, y_pred_val2)]\n",
    "        }\n",
    "df = pd.DataFrame(dict) \n",
    "  \n",
    "# displaying the DataFrame \n",
    "print(tabulate(df, headers = 'keys', tablefmt = 'psql'))\n",
    "\n",
    "print(\"Balanced Accuracy\")\n",
    "# creating a DataFrame \n",
    "dict = {'Model':['Train', 'Validation'], \n",
    "        'Default Model':[balanced_accuracy_score(y_train, y_pred_train1), balanced_accuracy_score(y_val, y_pred_val1)],\n",
    "        'Tuned Model':[balanced_accuracy_score(y_train, y_pred_train2), balanced_accuracy_score(y_val, y_pred_val2)]\n",
    "        }\n",
    "df = pd.DataFrame(dict) \n",
    "  \n",
    "# displaying the DataFrame \n",
    "print(tabulate(df, headers = 'keys', tablefmt = 'psql'))"
   ]
  },
  {
   "cell_type": "markdown",
   "metadata": {},
   "source": [
    "## (3) Default model with resampled data"
   ]
  },
  {
   "cell_type": "code",
   "execution_count": 21,
   "metadata": {},
   "outputs": [],
   "source": [
    "import imblearn\n",
    "from imblearn.over_sampling import RandomOverSampler\n",
    "from collections import Counter"
   ]
  },
  {
   "cell_type": "code",
   "execution_count": 22,
   "metadata": {},
   "outputs": [
    {
     "name": "stdout",
     "output_type": "stream",
     "text": [
      "Original dataset shape Counter({'q2': 57502, 'q1': 46510, 'q3': 23558, 'q4': 5914})\n",
      "Resample dataset shape Counter({'q1': 57502, 'q2': 57502, 'q4': 57502, 'q3': 57502})\n"
     ]
    }
   ],
   "source": [
    "# this technique seems exxagerate to real world but can consider SMOTE or other more efficient resampling\n",
    "ros = RandomOverSampler(random_state=2020)\n",
    "\n",
    "# fit predictor and target variable \n",
    "X_ros, y_ros = ros.fit_resample(X, y)\n",
    "\n",
    "print('Original dataset shape', Counter(y))\n",
    "print('Resample dataset shape', Counter(y_ros))"
   ]
  },
  {
   "cell_type": "code",
   "execution_count": 23,
   "metadata": {},
   "outputs": [],
   "source": [
    "X_ros_train, X_ros_val, y_ros_train, y_ros_val = train_test_split(X_ros, y_ros, test_size=0.30, random_state=2020)"
   ]
  },
  {
   "cell_type": "code",
   "execution_count": 25,
   "metadata": {},
   "outputs": [
    {
     "name": "stdout",
     "output_type": "stream",
     "text": [
      "Default Model on resampled Train set\n",
      "Accuracy: 0.9967702866370609\n",
      "Balanced Accuracy:  0.9967648230034952\n",
      "--------------------------------------\n",
      "Default model on resampled Validation set\n",
      "Accuracy: 0.805066446386389\n",
      "Balanced Accuracy:  0.806088752480949\n"
     ]
    }
   ],
   "source": [
    "# Default Decision Tree\n",
    "clf_ros = DecisionTreeClassifier(random_state=2020)\n",
    "clf_ros = clf_ros.fit(X_ros_train, y_ros_train)\n",
    "#Predict the response for train set\n",
    "y_pred_train4 = clf_ros.predict(X_ros_train)\n",
    "\n",
    "print(\"Default Model on resampled Train set\")\n",
    "print(\"Accuracy:\", metrics.accuracy_score(y_ros_train, y_pred_train4))\n",
    "print(\"Balanced Accuracy: \", balanced_accuracy_score(y_ros_train, y_pred_train4))\n",
    "print(\"--------------------------------------\")\n",
    "\n",
    "#Predict the response for validation set\n",
    "y_pred_val4 = clf_ros.predict(X_ros_val)\n",
    "\n",
    "print(\"Default model on resampled Validation set\")\n",
    "print(\"Accuracy:\", metrics.accuracy_score(y_ros_val, y_pred_val4))\n",
    "print(\"Balanced Accuracy: \", balanced_accuracy_score(y_ros_val, y_pred_val4))"
   ]
  },
  {
   "cell_type": "code",
   "execution_count": 26,
   "metadata": {},
   "outputs": [
    {
     "data": {
      "image/png": "[encoded data removed]",
      "text/plain": [
       "<Figure size 432x288 with 1 Axes>"
      ]
     },
     "metadata": {
      "needs_background": "light"
     },
     "output_type": "display_data"
    }
   ],
   "source": [
    "# Creating confusion matrix\n",
    "confusion_matrix =  pd.crosstab(index=y_ros_val, columns=y_pred_val4, rownames=['Actual'], colnames=['Predicted'])\n",
    "sns.heatmap(confusion_matrix, annot=True, square=False, fmt='', cbar=False)\n",
    "plt.title(\"Confusion Matrix\", fontsize = 15)\n",
    "plt.show()"
   ]
  },
  {
   "cell_type": "code",
   "execution_count": 27,
   "metadata": {},
   "outputs": [
    {
     "name": "stdout",
     "output_type": "stream",
     "text": [
      "              precision    recall  f1-score   support\n",
      "\n",
      "          q1       0.79      0.77      0.78     17265\n",
      "          q2       0.73      0.58      0.64     17436\n",
      "          q3       0.79      0.88      0.83     17158\n",
      "          q4       0.90      1.00      0.94     17144\n",
      "\n",
      "    accuracy                           0.81     69003\n",
      "   macro avg       0.80      0.81      0.80     69003\n",
      "weighted avg       0.80      0.81      0.80     69003\n",
      "\n"
     ]
    }
   ],
   "source": [
    "print(metrics.classification_report(y_ros_val, y_pred_val4))"
   ]
  },
  {
   "cell_type": "markdown",
   "metadata": {},
   "source": [
    "## (4) Gridesearch model with resampled data"
   ]
  },
  {
   "cell_type": "code",
   "execution_count": 28,
   "metadata": {},
   "outputs": [
    {
     "data": {
      "text/plain": [
       "GridSearchCV(cv=10, estimator=DecisionTreeClassifier(random_state=2020),\n",
       "             n_jobs=-1,\n",
       "             param_grid={'max_depth': [4, 6, 8, 10, 12, 14],\n",
       "                         'min_samples_split': [8, 12, 16, 20, 24, 28]},\n",
       "             scoring='balanced_accuracy')"
      ]
     },
     "execution_count": 28,
     "metadata": {},
     "output_type": "execute_result"
    }
   ],
   "source": [
    "# Create the parameter grid based on the results of random search \n",
    "param_grid = {\n",
    "    'max_depth': [4,6,8,10,12,14],\n",
    "    'min_samples_split': [8,12,16,20,24,28]\n",
    "}\n",
    "\n",
    "# Create a based model\n",
    "clf = DecisionTreeClassifier(random_state=2020)\n",
    "\n",
    "# Instantiate the grid search model\n",
    "grid_search = GridSearchCV(clf, param_grid, cv=10, scoring='balanced_accuracy', n_jobs=-1)\n",
    "\n",
    "# fit the grid with data\n",
    "grid_search.fit(X_ros_train, y_ros_train)"
   ]
  },
  {
   "cell_type": "code",
   "execution_count": 29,
   "metadata": {},
   "outputs": [
    {
     "name": "stdout",
     "output_type": "stream",
     "text": [
      "Best balanced_accuracy:  0.6199015921224207\n",
      "Best Combined Parameters:  {'max_depth': 14, 'min_samples_split': 8}\n"
     ]
    }
   ],
   "source": [
    "# examine the best model\n",
    "# Single best score achieved across all params\n",
    "print(\"Best balanced_accuracy: \", grid_search.best_score_)\n",
    "\n",
    "# Dictionary containing the parameters used to generate that score\n",
    "print(\"Best Combined Parameters: \", grid_search.best_params_)"
   ]
  },
  {
   "cell_type": "code",
   "execution_count": 30,
   "metadata": {},
   "outputs": [
    {
     "name": "stdout",
     "output_type": "stream",
     "text": [
      "Tuned Model on resampled Train set\n",
      "Accuracy: 0.6653520077016242\n",
      "Balanced Accuracy:  0.6655049439783803\n",
      "--------------------------------------\n",
      "Tuned model on resampled Validation set\n",
      "Accuracy: 0.6226975638740344\n",
      "Balanced Accuracy:  0.6224474223284273\n"
     ]
    }
   ],
   "source": [
    "# Tuned Decision Tree\n",
    "clf_ros = DecisionTreeClassifier(max_depth=14, min_samples_split=8, random_state=2020)\n",
    "clf_ros = clf_ros.fit(X_ros_train, y_ros_train)\n",
    "#Predict the response for train set\n",
    "y_pred_train5 = clf_ros.predict(X_ros_train)\n",
    "\n",
    "print(\"Tuned Model on resampled Train set\")\n",
    "print(\"Accuracy:\", metrics.accuracy_score(y_ros_train, y_pred_train5))\n",
    "print(\"Balanced Accuracy: \", balanced_accuracy_score(y_ros_train, y_pred_train5))\n",
    "print(\"--------------------------------------\")\n",
    "\n",
    "#Predict the response for validation set\n",
    "y_pred_val5 = clf_ros.predict(X_ros_val)\n",
    "\n",
    "print(\"Tuned model on resampled Validation set\")\n",
    "print(\"Accuracy:\", metrics.accuracy_score(y_ros_val, y_pred_val5))\n",
    "print(\"Balanced Accuracy: \", balanced_accuracy_score(y_ros_val, y_pred_val5))"
   ]
  },
  {
   "cell_type": "code",
   "execution_count": 31,
   "metadata": {},
   "outputs": [
    {
     "data": {
      "image/png": "[encoded data removed]",
      "text/plain": [
       "<Figure size 432x288 with 1 Axes>"
      ]
     },
     "metadata": {
      "needs_background": "light"
     },
     "output_type": "display_data"
    }
   ],
   "source": [
    "# Creating confusion matrix\n",
    "confusion_matrix =  pd.crosstab(index=y_ros_val, columns=y_pred_val5, rownames=['Actual'], colnames=['Predicted'])\n",
    "sns.heatmap(confusion_matrix, annot=True, square=False, fmt='', cbar=False)\n",
    "plt.title(\"Confusion Matrix\", fontsize = 15)\n",
    "plt.show()"
   ]
  },
  {
   "cell_type": "code",
   "execution_count": 32,
   "metadata": {},
   "outputs": [
    {
     "name": "stdout",
     "output_type": "stream",
     "text": [
      "              precision    recall  f1-score   support\n",
      "\n",
      "          q1       0.77      0.71      0.74     17265\n",
      "          q2       0.49      0.65      0.56     17436\n",
      "          q3       0.64      0.61      0.62     17158\n",
      "          q4       0.66      0.52      0.58     17144\n",
      "\n",
      "    accuracy                           0.62     69003\n",
      "   macro avg       0.64      0.62      0.63     69003\n",
      "weighted avg       0.64      0.62      0.63     69003\n",
      "\n"
     ]
    }
   ],
   "source": [
    "print(metrics.classification_report(y_ros_val, y_pred_val5))"
   ]
  },
  {
   "cell_type": "markdown",
   "metadata": {},
   "source": [
    "## Summarized Table for 4 models"
   ]
  },
  {
   "cell_type": "code",
   "execution_count": 74,
   "metadata": {},
   "outputs": [
    {
     "name": "stdout",
     "output_type": "stream",
     "text": [
      "Accuracy\n",
      "+----+------------+--------------+--------------------+-----------------------+-----------------------------+\n",
      "|    | Data       |   Base Model |   Gridsearch Model |   Base + Oversampling |   Gridsearch + Oversampling |\n",
      "|----+------------+--------------+--------------------+-----------------------+-----------------------------|\n",
      "|  0 | Train      |     0.995773 |           0.723881 |              0.99677  |                    0.665352 |\n",
      "|  1 | Validation |     0.589372 |           0.703191 |              0.805066 |                    0.622698 |\n",
      "+----+------------+--------------+--------------------+-----------------------+-----------------------------+\n",
      "Balanced Accuracy\n",
      "+----+------------+--------------+-------------------+-----------------------+-----------------------------+\n",
      "|    | Data       |   Base Model |   Gridseach Model |   Base + Oversampling |   Gridsearch + Oversampling |\n",
      "|----+------------+--------------+-------------------+-----------------------+-----------------------------|\n",
      "|  0 | Train      |     0.991064 |          0.539367 |              0.996765 |                    0.665505 |\n",
      "|  1 | Validation |     0.463898 |          0.524191 |              0.806089 |                    0.622447 |\n",
      "+----+------------+--------------+-------------------+-----------------------+-----------------------------+\n"
     ]
    }
   ],
   "source": [
    "# importing the modules \n",
    "from tabulate import tabulate \n",
    "print(\"Accuracy\")\n",
    "# creating a DataFrame \n",
    "dict = {'Data':['Train', 'Validation'], \n",
    "        'Base Model':[metrics.accuracy_score(y_train, y_pred_train1), metrics.accuracy_score(y_val, y_pred_val1)],\n",
    "        'Gridsearch Model':[metrics.accuracy_score(y_train, y_pred_train2), metrics.accuracy_score(y_val, y_pred_val2)],\n",
    "        'Base + Oversampling':[metrics.accuracy_score(y_ros_train, y_pred_train4), metrics.accuracy_score(y_ros_val, y_pred_val4)],\n",
    "        'Gridsearch + Oversampling':[metrics.accuracy_score(y_ros_train, y_pred_train5), metrics.accuracy_score(y_ros_val, y_pred_val5)]\n",
    "        }\n",
    "df = pd.DataFrame(dict) \n",
    "  \n",
    "# displaying the DataFrame \n",
    "print(tabulate(df, headers = 'keys', tablefmt = 'psql'))\n",
    "\n",
    "print(\"Balanced Accuracy\")\n",
    "# creating a DataFrame \n",
    "dict = {'Data':['Train', 'Validation'], \n",
    "        'Base Model':[balanced_accuracy_score(y_train, y_pred_train1), balanced_accuracy_score(y_val, y_pred_val1)],\n",
    "        'Gridseach Model':[balanced_accuracy_score(y_train, y_pred_train2), balanced_accuracy_score(y_val, y_pred_val2)],\n",
    "        'Base + Oversampling':[balanced_accuracy_score(y_ros_train, y_pred_train4), balanced_accuracy_score(y_ros_val, y_pred_val4)],\n",
    "        'Gridsearch + Oversampling':[balanced_accuracy_score(y_ros_train, y_pred_train5), balanced_accuracy_score(y_ros_val, y_pred_val5)]\n",
    "        }\n",
    "df = pd.DataFrame(dict) \n",
    "  \n",
    "# displaying the DataFrame \n",
    "print(tabulate(df, headers = 'keys', tablefmt = 'psql'))"
   ]
  },
  {
   "cell_type": "markdown",
   "metadata": {},
   "source": [
    "## Highest accuracy model: Default + Resampling with 80%\n",
    "## Best generalized model: Gridsearch + Resampling with < 0.1 gap"
   ]
  },
  {
   "cell_type": "markdown",
   "metadata": {},
   "source": [
    "## (5) Optional: SMOTE"
   ]
  },
  {
   "cell_type": "code",
   "execution_count": 36,
   "metadata": {},
   "outputs": [
    {
     "data": {
      "text/html": [
       "<div>\n",
       "<style scoped>\n",
       "    .dataframe tbody tr th:only-of-type {\n",
       "        vertical-align: middle;\n",
       "    }\n",
       "\n",
       "    .dataframe tbody tr th {\n",
       "        vertical-align: top;\n",
       "    }\n",
       "\n",
       "    .dataframe thead th {\n",
       "        text-align: right;\n",
       "    }\n",
       "</style>\n",
       "<table border=\"1\" class=\"dataframe\">\n",
       "  <thead>\n",
       "    <tr style=\"text-align: right;\">\n",
       "      <th></th>\n",
       "      <th>acousticness</th>\n",
       "      <th>danceability</th>\n",
       "      <th>duration_ms</th>\n",
       "      <th>energy</th>\n",
       "      <th>explicit</th>\n",
       "      <th>instrumentalness</th>\n",
       "      <th>key</th>\n",
       "      <th>liveness</th>\n",
       "      <th>loudness</th>\n",
       "      <th>mode</th>\n",
       "      <th>speechiness</th>\n",
       "      <th>tempo</th>\n",
       "      <th>valence</th>\n",
       "      <th>year</th>\n",
       "      <th>popularity</th>\n",
       "    </tr>\n",
       "  </thead>\n",
       "  <tbody>\n",
       "    <tr>\n",
       "      <th>0</th>\n",
       "      <td>0.991000</td>\n",
       "      <td>0.598</td>\n",
       "      <td>168333</td>\n",
       "      <td>0.224</td>\n",
       "      <td>0</td>\n",
       "      <td>0.000522</td>\n",
       "      <td>5</td>\n",
       "      <td>0.3790</td>\n",
       "      <td>-12.628</td>\n",
       "      <td>0</td>\n",
       "      <td>0.0936</td>\n",
       "      <td>149.976</td>\n",
       "      <td>0.6340</td>\n",
       "      <td>1920</td>\n",
       "      <td>q1</td>\n",
       "    </tr>\n",
       "    <tr>\n",
       "      <th>1</th>\n",
       "      <td>0.643000</td>\n",
       "      <td>0.852</td>\n",
       "      <td>150200</td>\n",
       "      <td>0.517</td>\n",
       "      <td>0</td>\n",
       "      <td>0.026400</td>\n",
       "      <td>5</td>\n",
       "      <td>0.0809</td>\n",
       "      <td>-7.261</td>\n",
       "      <td>0</td>\n",
       "      <td>0.0534</td>\n",
       "      <td>86.889</td>\n",
       "      <td>0.9500</td>\n",
       "      <td>1920</td>\n",
       "      <td>q1</td>\n",
       "    </tr>\n",
       "    <tr>\n",
       "      <th>2</th>\n",
       "      <td>0.993000</td>\n",
       "      <td>0.647</td>\n",
       "      <td>163827</td>\n",
       "      <td>0.186</td>\n",
       "      <td>0</td>\n",
       "      <td>0.000018</td>\n",
       "      <td>0</td>\n",
       "      <td>0.5190</td>\n",
       "      <td>-12.098</td>\n",
       "      <td>1</td>\n",
       "      <td>0.1740</td>\n",
       "      <td>97.600</td>\n",
       "      <td>0.6890</td>\n",
       "      <td>1920</td>\n",
       "      <td>q1</td>\n",
       "    </tr>\n",
       "    <tr>\n",
       "      <th>3</th>\n",
       "      <td>0.000173</td>\n",
       "      <td>0.730</td>\n",
       "      <td>422087</td>\n",
       "      <td>0.798</td>\n",
       "      <td>0</td>\n",
       "      <td>0.801000</td>\n",
       "      <td>2</td>\n",
       "      <td>0.1280</td>\n",
       "      <td>-7.311</td>\n",
       "      <td>1</td>\n",
       "      <td>0.0425</td>\n",
       "      <td>127.997</td>\n",
       "      <td>0.0422</td>\n",
       "      <td>1920</td>\n",
       "      <td>q1</td>\n",
       "    </tr>\n",
       "    <tr>\n",
       "      <th>4</th>\n",
       "      <td>0.295000</td>\n",
       "      <td>0.704</td>\n",
       "      <td>165224</td>\n",
       "      <td>0.707</td>\n",
       "      <td>1</td>\n",
       "      <td>0.000246</td>\n",
       "      <td>10</td>\n",
       "      <td>0.4020</td>\n",
       "      <td>-6.036</td>\n",
       "      <td>0</td>\n",
       "      <td>0.0768</td>\n",
       "      <td>122.076</td>\n",
       "      <td>0.2990</td>\n",
       "      <td>1920</td>\n",
       "      <td>q1</td>\n",
       "    </tr>\n",
       "  </tbody>\n",
       "</table>\n",
       "</div>"
      ],
      "text/plain": [
       "   acousticness  danceability  duration_ms  energy  explicit  \\\n",
       "0      0.991000         0.598       168333   0.224         0   \n",
       "1      0.643000         0.852       150200   0.517         0   \n",
       "2      0.993000         0.647       163827   0.186         0   \n",
       "3      0.000173         0.730       422087   0.798         0   \n",
       "4      0.295000         0.704       165224   0.707         1   \n",
       "\n",
       "   instrumentalness  key  liveness  loudness  mode  speechiness    tempo  \\\n",
       "0          0.000522    5    0.3790   -12.628     0       0.0936  149.976   \n",
       "1          0.026400    5    0.0809    -7.261     0       0.0534   86.889   \n",
       "2          0.000018    0    0.5190   -12.098     1       0.1740   97.600   \n",
       "3          0.801000    2    0.1280    -7.311     1       0.0425  127.997   \n",
       "4          0.000246   10    0.4020    -6.036     0       0.0768  122.076   \n",
       "\n",
       "   valence  year popularity  \n",
       "0   0.6340  1920         q1  \n",
       "1   0.9500  1920         q1  \n",
       "2   0.6890  1920         q1  \n",
       "3   0.0422  1920         q1  \n",
       "4   0.2990  1920         q1  "
      ]
     },
     "execution_count": 36,
     "metadata": {},
     "output_type": "execute_result"
    }
   ],
   "source": [
    "df = train_and_validation\n",
    "df.head()"
   ]
  },
  {
   "cell_type": "code",
   "execution_count": 2,
   "metadata": {},
   "outputs": [],
   "source": [
    "#pip install imblearn"
   ]
  },
  {
   "cell_type": "code",
   "execution_count": 37,
   "metadata": {},
   "outputs": [],
   "source": [
    "X = train_and_validation.drop('popularity', axis=1)\n",
    "y = train_and_validation['popularity']"
   ]
  },
  {
   "cell_type": "code",
   "execution_count": 38,
   "metadata": {},
   "outputs": [
    {
     "name": "stdout",
     "output_type": "stream",
     "text": [
      "Before OverSampling, the shape of train_X: (133484, 14)\n",
      "Before OverSampling, the shape of train_y: (133484,) \n",
      "\n",
      "Before OverSampling, counts of label 'q1': 46510\n",
      "Before OverSampling, counts of label 'q2': 57502\n",
      "Before OverSampling, counts of label 'q3': 23558\n",
      "Before OverSampling, counts of label 'q4': 5914\n"
     ]
    }
   ],
   "source": [
    "print('Before OverSampling, the shape of train_X: {}'.format(X.shape)) \n",
    "print('Before OverSampling, the shape of train_y: {} \\n'.format(y.shape))\n",
    "\n",
    "print(\"Before OverSampling, counts of label 'q1': {}\".format(sum(y == 'q1'))) \n",
    "print(\"Before OverSampling, counts of label 'q2': {}\".format(sum(y == 'q2'))) \n",
    "print(\"Before OverSampling, counts of label 'q3': {}\".format(sum(y == 'q3'))) \n",
    "print(\"Before OverSampling, counts of label 'q4': {}\".format(sum(y == 'q4'))) "
   ]
  },
  {
   "cell_type": "code",
   "execution_count": 39,
   "metadata": {},
   "outputs": [],
   "source": [
    "from imblearn.over_sampling import SMOTE \n",
    "sm = SMOTE(random_state = 2) \n",
    "X_res, y_res = sm.fit_sample(X, y)"
   ]
  },
  {
   "cell_type": "code",
   "execution_count": 40,
   "metadata": {},
   "outputs": [],
   "source": [
    "X_train_res, X_val_res, y_train_res, y_val_res = train_test_split(X_res, y_res, test_size=0.30, random_state=2020)"
   ]
  },
  {
   "cell_type": "code",
   "execution_count": 41,
   "metadata": {},
   "outputs": [
    {
     "name": "stdout",
     "output_type": "stream",
     "text": [
      "After OverSampling, the shape of train_X: (161005, 14)\n",
      "After OverSampling, the shape of train_y: (161005,) \n",
      "\n",
      "After OverSampling, counts of label 'q1': 40237\n",
      "After OverSampling, counts of label 'q2': 40066\n",
      "After OverSampling, counts of label 'q3': 40344\n",
      "After OverSampling, counts of label 'q4': 40358\n"
     ]
    }
   ],
   "source": [
    "print('After OverSampling, the shape of train_X: {}'.format(X_train_res.shape)) \n",
    "print('After OverSampling, the shape of train_y: {} \\n'.format(y_train_res.shape)) \n",
    "  \n",
    "print(\"After OverSampling, counts of label 'q1': {}\".format(sum(y_train_res == 'q1'))) \n",
    "print(\"After OverSampling, counts of label 'q2': {}\".format(sum(y_train_res == 'q2'))) \n",
    "print(\"After OverSampling, counts of label 'q3': {}\".format(sum(y_train_res == 'q3'))) \n",
    "print(\"After OverSampling, counts of label 'q4': {}\".format(sum(y_train_res == 'q4'))) "
   ]
  },
  {
   "cell_type": "code",
   "execution_count": 42,
   "metadata": {},
   "outputs": [
    {
     "name": "stdout",
     "output_type": "stream",
     "text": [
      "After OverSampling, the shape of val_X: (69003, 14)\n",
      "After OverSampling, the shape of val_y: (69003,) \n",
      "\n",
      "After OverSampling, counts of label 'q1': 17265\n",
      "After OverSampling, counts of label 'q2': 17436\n",
      "After OverSampling, counts of label 'q3': 17158\n",
      "After OverSampling, counts of label 'q4': 17144\n"
     ]
    }
   ],
   "source": [
    "print('After OverSampling, the shape of val_X: {}'.format(X_val_res.shape)) \n",
    "print('After OverSampling, the shape of val_y: {} \\n'.format(y_val_res.shape)) \n",
    "\n",
    "print(\"After OverSampling, counts of label 'q1': {}\".format(sum(y_val_res == 'q1'))) \n",
    "print(\"After OverSampling, counts of label 'q2': {}\".format(sum(y_val_res == 'q2'))) \n",
    "print(\"After OverSampling, counts of label 'q3': {}\".format(sum(y_val_res == 'q3'))) \n",
    "print(\"After OverSampling, counts of label 'q4': {}\".format(sum(y_val_res == 'q4'))) "
   ]
  },
  {
   "cell_type": "code",
   "execution_count": 43,
   "metadata": {},
   "outputs": [
    {
     "name": "stdout",
     "output_type": "stream",
     "text": [
      "Default Model with SMOTE on Train set\n",
      "Accuracy: 0.9978013105183069\n",
      "Balanced Accuracy:  0.9978015883863347\n",
      "--------------------------------------\n",
      "Default model with SMOTE on Validation set\n",
      "Accuracy: 0.5684680376215527\n",
      "Balanced Accuracy:  0.5686800919919208\n"
     ]
    }
   ],
   "source": [
    "# Default Decision Tree\n",
    "clf_res = DecisionTreeClassifier(random_state=2020)\n",
    "clf_res = clf_res.fit(X_train_res, y_train_res)\n",
    "#Predict the response for train set\n",
    "y_pred_train6 = clf_res.predict(X_train_res)\n",
    "\n",
    "print(\"Default Model with SMOTE on Train set\")\n",
    "print(\"Accuracy:\", metrics.accuracy_score(y_train_res, y_pred_train6))\n",
    "print(\"Balanced Accuracy: \", balanced_accuracy_score(y_train_res, y_pred_train6))\n",
    "print(\"--------------------------------------\")\n",
    "\n",
    "#Predict the response for validation set\n",
    "y_pred_val6 = clf_res.predict(X_val_res)\n",
    "\n",
    "print(\"Default model with SMOTE on Validation set\")\n",
    "print(\"Accuracy:\", metrics.accuracy_score(y_val_res, y_pred_val6))\n",
    "print(\"Balanced Accuracy: \", balanced_accuracy_score(y_val_res, y_pred_val6))"
   ]
  },
  {
   "cell_type": "code",
   "execution_count": 44,
   "metadata": {},
   "outputs": [
    {
     "data": {
      "text/plain": [
       "GridSearchCV(cv=10, estimator=DecisionTreeClassifier(random_state=2020),\n",
       "             n_jobs=-1,\n",
       "             param_grid={'max_depth': [4, 6, 8, 10, 12, 14],\n",
       "                         'min_samples_split': [20, 24, 28, 32, 36, 40]},\n",
       "             scoring='accuracy')"
      ]
     },
     "execution_count": 44,
     "metadata": {},
     "output_type": "execute_result"
    }
   ],
   "source": [
    "# Create the parameter grid based on the results of random search \n",
    "param_grid = {\n",
    "    'max_depth': [4,6,8,10,12,14],\n",
    "    'min_samples_split': [20,24,28,32,36,40]\n",
    "}\n",
    "\n",
    "# Create a based model\n",
    "clf = DecisionTreeClassifier(random_state=2020)\n",
    "\n",
    "# Instantiate the grid search model\n",
    "grid_search = GridSearchCV(clf, param_grid, cv=10, scoring='accuracy', n_jobs=-1)\n",
    "\n",
    "# fit the grid with data\n",
    "grid_search.fit(X_train_res, y_train_res)"
   ]
  },
  {
   "cell_type": "code",
   "execution_count": 45,
   "metadata": {},
   "outputs": [
    {
     "name": "stdout",
     "output_type": "stream",
     "text": [
      "Best balanced accuracy:  0.5798764549557317\n",
      "Best Combined Parameters:  {'max_depth': 14, 'min_samples_split': 40}\n"
     ]
    }
   ],
   "source": [
    "# examine the best model\n",
    "# Single best score achieved across all params\n",
    "print(\"Best balanced accuracy: \", grid_search.best_score_)\n",
    "\n",
    "# Dictionary containing the parameters used to generate that score\n",
    "print(\"Best Combined Parameters: \", grid_search.best_params_)"
   ]
  },
  {
   "cell_type": "code",
   "execution_count": 46,
   "metadata": {},
   "outputs": [
    {
     "name": "stdout",
     "output_type": "stream",
     "text": [
      "Tuned Model on SMOTE Train set\n",
      "Accuracy: 0.637334244278128\n",
      "Balanced Accuracy:  0.6373921190881946\n",
      "--------------------------------------\n",
      "Tuned model on SMOTE Validation set\n",
      "Accuracy: 0.576569134675304\n",
      "Balanced Accuracy:  0.5765315814213687\n"
     ]
    }
   ],
   "source": [
    "# Tuned Decision Tree\n",
    "clf_res = DecisionTreeClassifier(max_depth=14, min_samples_split=28, random_state=2020)\n",
    "clf_res = clf_res.fit(X_train_res, y_train_res)\n",
    "#Predict the response for train set\n",
    "y_pred_train7 = clf_res.predict(X_train_res)\n",
    "\n",
    "print(\"Tuned Model on SMOTE Train set\")\n",
    "print(\"Accuracy:\", metrics.accuracy_score(y_train_res, y_pred_train7))\n",
    "print(\"Balanced Accuracy: \", balanced_accuracy_score(y_train_res, y_pred_train7))\n",
    "print(\"--------------------------------------\")\n",
    "\n",
    "#Predict the response for validation set\n",
    "y_pred_val7 = clf_res.predict(X_val_res)\n",
    "\n",
    "print(\"Tuned model on SMOTE Validation set\")\n",
    "print(\"Accuracy:\", metrics.accuracy_score(y_val_res, y_pred_val7))\n",
    "print(\"Balanced Accuracy: \", balanced_accuracy_score(y_val_res, y_pred_val7))"
   ]
  },
  {
   "cell_type": "markdown",
   "metadata": {},
   "source": [
    "#### Models with SMOTE did not show any significant improvement on accuracy and generalizarion "
   ]
  },
  {
   "cell_type": "markdown",
   "metadata": {},
   "source": [
    "## (6) Optional: Feature Selection"
   ]
  },
  {
   "cell_type": "code",
   "execution_count": 48,
   "metadata": {},
   "outputs": [],
   "source": [
    "from sklearn.feature_selection import SelectFromModel\n",
    "from matplotlib import pyplot"
   ]
  },
  {
   "cell_type": "code",
   "execution_count": 49,
   "metadata": {},
   "outputs": [
    {
     "name": "stdout",
     "output_type": "stream",
     "text": [
      "Feature: 0, Score: 0.06106\n",
      "Feature: 1, Score: 0.05815\n",
      "Feature: 2, Score: 0.06916\n",
      "Feature: 3, Score: 0.05685\n",
      "Feature: 4, Score: 0.00538\n",
      "Feature: 5, Score: 0.06235\n",
      "Feature: 6, Score: 0.02806\n",
      "Feature: 7, Score: 0.06249\n",
      "Feature: 8, Score: 0.06544\n",
      "Feature: 9, Score: 0.00643\n",
      "Feature: 10, Score: 0.05988\n",
      "Feature: 11, Score: 0.06365\n",
      "Feature: 12, Score: 0.05940\n",
      "Feature: 13, Score: 0.34172\n",
      "-------------------------------------------\n",
      "Graph showing the degree of impotance\n"
     ]
    },
    {
     "data": {
      "image/png": "[encoded data removed]",
      "text/plain": [
       "<Figure size 432x288 with 1 Axes>"
      ]
     },
     "metadata": {
      "needs_background": "light"
     },
     "output_type": "display_data"
    }
   ],
   "source": [
    "# Feature importance using decision tree as base\n",
    "clf_im = DecisionTreeClassifier(random_state=2020)\n",
    "# fit the model\n",
    "clf_im = clf_im.fit(X_train, y_train)\n",
    "\n",
    "# get importance\n",
    "importance = clf_im.feature_importances_\n",
    "\n",
    "# summarize feature importance\n",
    "for i,v in enumerate(importance):\n",
    "    print('Feature: %0d, Score: %.5f' % (i,v))\n",
    "# plot feature importance\n",
    "pyplot.bar([x for x in range(len(importance))], importance)\n",
    "print(\"-------------------------------------------\")\n",
    "print(\"Graph showing the degree of impotance\")\n",
    "pyplot.show()"
   ]
  },
  {
   "cell_type": "code",
   "execution_count": 69,
   "metadata": {},
   "outputs": [],
   "source": [
    "# feature selection function\n",
    "def select_features(X_train, y_train, X_val):\n",
    "    # configure to select a subset of features\n",
    "    fs = SelectFromModel(DecisionTreeClassifier(), max_features=11)\n",
    "    # learn relationship from training data\n",
    "    fs.fit(X_train, y_train)\n",
    "    # transform train input data\n",
    "    X_train_fs = fs.transform(X_train)\n",
    "    # transform test input data\n",
    "    X_val_fs = fs.transform(X_val)\n",
    "    return X_train_fs, X_val_fs, fs"
   ]
  },
  {
   "cell_type": "code",
   "execution_count": 51,
   "metadata": {},
   "outputs": [],
   "source": [
    "# split the dataset\n",
    "X_train, X_val, y_train, y_val = train_test_split(X, y, test_size=0.30, random_state=2020)\n",
    "\n",
    "# feature selection\n",
    "X_train_fs, X_val_fs, fs = select_features(X_train, y_train, X_val)"
   ]
  },
  {
   "cell_type": "code",
   "execution_count": 53,
   "metadata": {},
   "outputs": [
    {
     "name": "stdout",
     "output_type": "stream",
     "text": [
      "Default Model on selectd featured - Train set\n",
      "Accuracy: 0.6844003510349108\n",
      "Balanced Accuracy:  0.5054590451501799\n",
      "--------------------------------------\n",
      "Default model on selectd featured - Validation set\n",
      "Accuracy: 0.6813913998901263\n",
      "Balanced Accuracy:  0.5057249989962223\n"
     ]
    }
   ],
   "source": [
    "# fit the default model\n",
    "clf_fs = DecisionTreeClassifier(random_state=2020)\n",
    "clf_fs = clf_fs.fit(X_train_fs, y_train)\n",
    "#Predict the response for train set\n",
    "y_pred_train3 = clf_fs.predict(X_train_fs)\n",
    "\n",
    "print(\"Default Model on selectd featured - Train set\")\n",
    "print(\"Accuracy:\", metrics.accuracy_score(y_train, y_pred_train3))\n",
    "print(\"Balanced Accuracy: \", balanced_accuracy_score(y_train, y_pred_train3))\n",
    "print(\"--------------------------------------\")\n",
    "\n",
    "#Predict the response for validation set\n",
    "y_pred_val3 = clf_fs.predict(X_val_fs)\n",
    "\n",
    "print(\"Default model on selectd featured - Validation set\")\n",
    "print(\"Accuracy:\", metrics.accuracy_score(y_val, y_pred_val3))\n",
    "print(\"Balanced Accuracy: \", balanced_accuracy_score(y_val, y_pred_val3))"
   ]
  },
  {
   "cell_type": "code",
   "execution_count": 54,
   "metadata": {},
   "outputs": [
    {
     "data": {
      "text/plain": [
       "GridSearchCV(cv=10, estimator=DecisionTreeClassifier(random_state=2020),\n",
       "             n_jobs=-1,\n",
       "             param_grid={'max_depth': [8, 10, 12, 14, 16, 18],\n",
       "                         'min_samples_split': [12, 14, 16, 18, 20]},\n",
       "             scoring='balanced_accuracy')"
      ]
     },
     "execution_count": 54,
     "metadata": {},
     "output_type": "execute_result"
    }
   ],
   "source": [
    "# Create the parameter grid based on the results of random search \n",
    "param_grid = {\n",
    "    'max_depth': [8,10,12,14,16,18],\n",
    "    'min_samples_split': [12,14,16,18,20]\n",
    "}\n",
    "\n",
    "# Create a based model\n",
    "clf_fs = DecisionTreeClassifier(random_state=2020)\n",
    "\n",
    "# Instantiate the grid search model\n",
    "grid_search = GridSearchCV(clf_fs, param_grid, cv=10, scoring='balanced_accuracy', n_jobs=-1)\n",
    "\n",
    "# fit the grid with data\n",
    "grid_search.fit(X_train_fs, y_train)"
   ]
  },
  {
   "cell_type": "code",
   "execution_count": 55,
   "metadata": {},
   "outputs": [
    {
     "name": "stdout",
     "output_type": "stream",
     "text": [
      "Best balanced_accuracy:  0.5049448746488598\n",
      "Best Combined Parameters:  {'max_depth': 8, 'min_samples_split': 12}\n"
     ]
    }
   ],
   "source": [
    "# examine the best model\n",
    "# Single best score achieved across all params\n",
    "print(\"Best balanced_accuracy: \", grid_search.best_score_)\n",
    "\n",
    "# Dictionary containing the parameters used to generate that score\n",
    "print(\"Best Combined Parameters: \", grid_search.best_params_)"
   ]
  },
  {
   "cell_type": "code",
   "execution_count": 56,
   "metadata": {},
   "outputs": [
    {
     "name": "stdout",
     "output_type": "stream",
     "text": [
      "Tuned Model on Train set\n",
      "Accuracy: 0.6844003510349108\n",
      "Balanced Accuracy:  0.5054590451501799\n",
      "--------------------------------------\n",
      "Tuned model on Validation set\n",
      "Accuracy: 0.6813913998901263\n",
      "Balanced Accuracy:  0.5057249989962223\n"
     ]
    }
   ],
   "source": [
    "# fit the tuned model\n",
    "clf_fs_best = DecisionTreeClassifier(max_depth=8, min_samples_split=12, random_state=2020)\n",
    "clf_fs_best = clf_fs_best.fit(X_train_fs, y_train)\n",
    "#Predict the response for train set\n",
    "y_pred_train8 = clf_fs_best.predict(X_train_fs)\n",
    "\n",
    "print(\"Tuned Model on Train set\")\n",
    "print(\"Accuracy:\", metrics.accuracy_score(y_train, y_pred_train8))\n",
    "print(\"Balanced Accuracy: \", balanced_accuracy_score(y_train, y_pred_train8))\n",
    "print(\"--------------------------------------\")\n",
    "\n",
    "#Predict the response for validation set\n",
    "y_pred_val8 = clf_fs_best.predict(X_val_fs)\n",
    "\n",
    "print(\"Tuned model on Validation set\")\n",
    "print(\"Accuracy:\", metrics.accuracy_score(y_val, y_pred_val8))\n",
    "print(\"Balanced Accuracy: \", balanced_accuracy_score(y_val, y_pred_val8))"
   ]
  },
  {
   "cell_type": "markdown",
   "metadata": {},
   "source": [
    "## Research Question\n",
    "\n",
    "## How would the unpopular songs be possibly remixed based on the audio features in order to get more popular?"
   ]
  },
  {
   "cell_type": "code",
   "execution_count": 47,
   "metadata": {},
   "outputs": [],
   "source": [
    "df = train_and_validation"
   ]
  },
  {
   "cell_type": "code",
   "execution_count": 71,
   "metadata": {},
   "outputs": [
    {
     "data": {
      "text/html": [
       "<div>\n",
       "<style scoped>\n",
       "    .dataframe tbody tr th:only-of-type {\n",
       "        vertical-align: middle;\n",
       "    }\n",
       "\n",
       "    .dataframe tbody tr th {\n",
       "        vertical-align: top;\n",
       "    }\n",
       "\n",
       "    .dataframe thead th {\n",
       "        text-align: right;\n",
       "    }\n",
       "</style>\n",
       "<table border=\"1\" class=\"dataframe\">\n",
       "  <thead>\n",
       "    <tr style=\"text-align: right;\">\n",
       "      <th></th>\n",
       "      <th>acousticness</th>\n",
       "      <th>danceability</th>\n",
       "      <th>duration_ms</th>\n",
       "      <th>energy</th>\n",
       "      <th>explicit</th>\n",
       "      <th>instrumentalness</th>\n",
       "      <th>key</th>\n",
       "      <th>liveness</th>\n",
       "      <th>loudness</th>\n",
       "      <th>mode</th>\n",
       "      <th>speechiness</th>\n",
       "      <th>tempo</th>\n",
       "      <th>valence</th>\n",
       "      <th>year</th>\n",
       "      <th>popularity</th>\n",
       "    </tr>\n",
       "  </thead>\n",
       "  <tbody>\n",
       "    <tr>\n",
       "      <th>0</th>\n",
       "      <td>0.991000</td>\n",
       "      <td>0.598</td>\n",
       "      <td>168333</td>\n",
       "      <td>0.224</td>\n",
       "      <td>0</td>\n",
       "      <td>0.000522</td>\n",
       "      <td>5</td>\n",
       "      <td>0.3790</td>\n",
       "      <td>-12.628</td>\n",
       "      <td>0</td>\n",
       "      <td>0.0936</td>\n",
       "      <td>149.976</td>\n",
       "      <td>0.6340</td>\n",
       "      <td>1920</td>\n",
       "      <td>q1</td>\n",
       "    </tr>\n",
       "    <tr>\n",
       "      <th>1</th>\n",
       "      <td>0.643000</td>\n",
       "      <td>0.852</td>\n",
       "      <td>150200</td>\n",
       "      <td>0.517</td>\n",
       "      <td>0</td>\n",
       "      <td>0.026400</td>\n",
       "      <td>5</td>\n",
       "      <td>0.0809</td>\n",
       "      <td>-7.261</td>\n",
       "      <td>0</td>\n",
       "      <td>0.0534</td>\n",
       "      <td>86.889</td>\n",
       "      <td>0.9500</td>\n",
       "      <td>1920</td>\n",
       "      <td>q1</td>\n",
       "    </tr>\n",
       "    <tr>\n",
       "      <th>2</th>\n",
       "      <td>0.993000</td>\n",
       "      <td>0.647</td>\n",
       "      <td>163827</td>\n",
       "      <td>0.186</td>\n",
       "      <td>0</td>\n",
       "      <td>0.000018</td>\n",
       "      <td>0</td>\n",
       "      <td>0.5190</td>\n",
       "      <td>-12.098</td>\n",
       "      <td>1</td>\n",
       "      <td>0.1740</td>\n",
       "      <td>97.600</td>\n",
       "      <td>0.6890</td>\n",
       "      <td>1920</td>\n",
       "      <td>q1</td>\n",
       "    </tr>\n",
       "    <tr>\n",
       "      <th>3</th>\n",
       "      <td>0.000173</td>\n",
       "      <td>0.730</td>\n",
       "      <td>422087</td>\n",
       "      <td>0.798</td>\n",
       "      <td>0</td>\n",
       "      <td>0.801000</td>\n",
       "      <td>2</td>\n",
       "      <td>0.1280</td>\n",
       "      <td>-7.311</td>\n",
       "      <td>1</td>\n",
       "      <td>0.0425</td>\n",
       "      <td>127.997</td>\n",
       "      <td>0.0422</td>\n",
       "      <td>1920</td>\n",
       "      <td>q1</td>\n",
       "    </tr>\n",
       "    <tr>\n",
       "      <th>4</th>\n",
       "      <td>0.295000</td>\n",
       "      <td>0.704</td>\n",
       "      <td>165224</td>\n",
       "      <td>0.707</td>\n",
       "      <td>1</td>\n",
       "      <td>0.000246</td>\n",
       "      <td>10</td>\n",
       "      <td>0.4020</td>\n",
       "      <td>-6.036</td>\n",
       "      <td>0</td>\n",
       "      <td>0.0768</td>\n",
       "      <td>122.076</td>\n",
       "      <td>0.2990</td>\n",
       "      <td>1920</td>\n",
       "      <td>q1</td>\n",
       "    </tr>\n",
       "  </tbody>\n",
       "</table>\n",
       "</div>"
      ],
      "text/plain": [
       "   acousticness  danceability  duration_ms  energy  explicit  \\\n",
       "0      0.991000         0.598       168333   0.224         0   \n",
       "1      0.643000         0.852       150200   0.517         0   \n",
       "2      0.993000         0.647       163827   0.186         0   \n",
       "3      0.000173         0.730       422087   0.798         0   \n",
       "4      0.295000         0.704       165224   0.707         1   \n",
       "\n",
       "   instrumentalness  key  liveness  loudness  mode  speechiness    tempo  \\\n",
       "0          0.000522    5    0.3790   -12.628     0       0.0936  149.976   \n",
       "1          0.026400    5    0.0809    -7.261     0       0.0534   86.889   \n",
       "2          0.000018    0    0.5190   -12.098     1       0.1740   97.600   \n",
       "3          0.801000    2    0.1280    -7.311     1       0.0425  127.997   \n",
       "4          0.000246   10    0.4020    -6.036     0       0.0768  122.076   \n",
       "\n",
       "   valence  year popularity  \n",
       "0   0.6340  1920         q1  \n",
       "1   0.9500  1920         q1  \n",
       "2   0.6890  1920         q1  \n",
       "3   0.0422  1920         q1  \n",
       "4   0.2990  1920         q1  "
      ]
     },
     "execution_count": 71,
     "metadata": {},
     "output_type": "execute_result"
    }
   ],
   "source": [
    "df.head()"
   ]
  },
  {
   "cell_type": "code",
   "execution_count": 76,
   "metadata": {},
   "outputs": [],
   "source": [
    "df2 = df.drop(columns=['duration_ms', 'explicit', 'key', 'mode', 'year'])"
   ]
  },
  {
   "cell_type": "code",
   "execution_count": 77,
   "metadata": {},
   "outputs": [
    {
     "data": {
      "text/html": [
       "<div>\n",
       "<style scoped>\n",
       "    .dataframe tbody tr th:only-of-type {\n",
       "        vertical-align: middle;\n",
       "    }\n",
       "\n",
       "    .dataframe tbody tr th {\n",
       "        vertical-align: top;\n",
       "    }\n",
       "\n",
       "    .dataframe thead th {\n",
       "        text-align: right;\n",
       "    }\n",
       "</style>\n",
       "<table border=\"1\" class=\"dataframe\">\n",
       "  <thead>\n",
       "    <tr style=\"text-align: right;\">\n",
       "      <th></th>\n",
       "      <th>acousticness</th>\n",
       "      <th>danceability</th>\n",
       "      <th>energy</th>\n",
       "      <th>instrumentalness</th>\n",
       "      <th>liveness</th>\n",
       "      <th>loudness</th>\n",
       "      <th>speechiness</th>\n",
       "      <th>tempo</th>\n",
       "      <th>valence</th>\n",
       "      <th>popularity</th>\n",
       "    </tr>\n",
       "  </thead>\n",
       "  <tbody>\n",
       "    <tr>\n",
       "      <th>0</th>\n",
       "      <td>0.991000</td>\n",
       "      <td>0.598</td>\n",
       "      <td>0.224</td>\n",
       "      <td>0.000522</td>\n",
       "      <td>0.3790</td>\n",
       "      <td>-12.628</td>\n",
       "      <td>0.0936</td>\n",
       "      <td>149.976</td>\n",
       "      <td>0.6340</td>\n",
       "      <td>q1</td>\n",
       "    </tr>\n",
       "    <tr>\n",
       "      <th>1</th>\n",
       "      <td>0.643000</td>\n",
       "      <td>0.852</td>\n",
       "      <td>0.517</td>\n",
       "      <td>0.026400</td>\n",
       "      <td>0.0809</td>\n",
       "      <td>-7.261</td>\n",
       "      <td>0.0534</td>\n",
       "      <td>86.889</td>\n",
       "      <td>0.9500</td>\n",
       "      <td>q1</td>\n",
       "    </tr>\n",
       "    <tr>\n",
       "      <th>2</th>\n",
       "      <td>0.993000</td>\n",
       "      <td>0.647</td>\n",
       "      <td>0.186</td>\n",
       "      <td>0.000018</td>\n",
       "      <td>0.5190</td>\n",
       "      <td>-12.098</td>\n",
       "      <td>0.1740</td>\n",
       "      <td>97.600</td>\n",
       "      <td>0.6890</td>\n",
       "      <td>q1</td>\n",
       "    </tr>\n",
       "    <tr>\n",
       "      <th>3</th>\n",
       "      <td>0.000173</td>\n",
       "      <td>0.730</td>\n",
       "      <td>0.798</td>\n",
       "      <td>0.801000</td>\n",
       "      <td>0.1280</td>\n",
       "      <td>-7.311</td>\n",
       "      <td>0.0425</td>\n",
       "      <td>127.997</td>\n",
       "      <td>0.0422</td>\n",
       "      <td>q1</td>\n",
       "    </tr>\n",
       "    <tr>\n",
       "      <th>4</th>\n",
       "      <td>0.295000</td>\n",
       "      <td>0.704</td>\n",
       "      <td>0.707</td>\n",
       "      <td>0.000246</td>\n",
       "      <td>0.4020</td>\n",
       "      <td>-6.036</td>\n",
       "      <td>0.0768</td>\n",
       "      <td>122.076</td>\n",
       "      <td>0.2990</td>\n",
       "      <td>q1</td>\n",
       "    </tr>\n",
       "  </tbody>\n",
       "</table>\n",
       "</div>"
      ],
      "text/plain": [
       "   acousticness  danceability  energy  instrumentalness  liveness  loudness  \\\n",
       "0      0.991000         0.598   0.224          0.000522    0.3790   -12.628   \n",
       "1      0.643000         0.852   0.517          0.026400    0.0809    -7.261   \n",
       "2      0.993000         0.647   0.186          0.000018    0.5190   -12.098   \n",
       "3      0.000173         0.730   0.798          0.801000    0.1280    -7.311   \n",
       "4      0.295000         0.704   0.707          0.000246    0.4020    -6.036   \n",
       "\n",
       "   speechiness    tempo  valence popularity  \n",
       "0       0.0936  149.976   0.6340         q1  \n",
       "1       0.0534   86.889   0.9500         q1  \n",
       "2       0.1740   97.600   0.6890         q1  \n",
       "3       0.0425  127.997   0.0422         q1  \n",
       "4       0.0768  122.076   0.2990         q1  "
      ]
     },
     "execution_count": 77,
     "metadata": {},
     "output_type": "execute_result"
    }
   ],
   "source": [
    "df2.head()"
   ]
  },
  {
   "cell_type": "code",
   "execution_count": 138,
   "metadata": {},
   "outputs": [],
   "source": [
    "df_q1 = df2.loc[(df2['popularity'] == 'q1')]\n",
    "df_q2 = df2.loc[(df2['popularity'] == 'q2')]\n",
    "df_q3 = df2.loc[(df2['popularity'] == 'q3')]\n",
    "df_q4 = df2.loc[(df2['popularity'] == 'q4')]"
   ]
  },
  {
   "cell_type": "code",
   "execution_count": 83,
   "metadata": {},
   "outputs": [
    {
     "data": {
      "text/html": [
       "<div>\n",
       "<style scoped>\n",
       "    .dataframe tbody tr th:only-of-type {\n",
       "        vertical-align: middle;\n",
       "    }\n",
       "\n",
       "    .dataframe tbody tr th {\n",
       "        vertical-align: top;\n",
       "    }\n",
       "\n",
       "    .dataframe thead th {\n",
       "        text-align: right;\n",
       "    }\n",
       "</style>\n",
       "<table border=\"1\" class=\"dataframe\">\n",
       "  <thead>\n",
       "    <tr style=\"text-align: right;\">\n",
       "      <th></th>\n",
       "      <th>acousticness</th>\n",
       "      <th>danceability</th>\n",
       "      <th>energy</th>\n",
       "      <th>instrumentalness</th>\n",
       "      <th>liveness</th>\n",
       "      <th>loudness</th>\n",
       "      <th>speechiness</th>\n",
       "      <th>tempo</th>\n",
       "      <th>valence</th>\n",
       "    </tr>\n",
       "  </thead>\n",
       "  <tbody>\n",
       "    <tr>\n",
       "      <th>count</th>\n",
       "      <td>46510.000000</td>\n",
       "      <td>46510.000000</td>\n",
       "      <td>46510.000000</td>\n",
       "      <td>46510.000000</td>\n",
       "      <td>46510.000000</td>\n",
       "      <td>46510.000000</td>\n",
       "      <td>46510.000000</td>\n",
       "      <td>46510.000000</td>\n",
       "      <td>46510.000000</td>\n",
       "    </tr>\n",
       "    <tr>\n",
       "      <th>mean</th>\n",
       "      <td>0.614800</td>\n",
       "      <td>0.507698</td>\n",
       "      <td>0.425602</td>\n",
       "      <td>0.233986</td>\n",
       "      <td>0.227538</td>\n",
       "      <td>-12.808914</td>\n",
       "      <td>0.091462</td>\n",
       "      <td>115.969466</td>\n",
       "      <td>0.511482</td>\n",
       "    </tr>\n",
       "    <tr>\n",
       "      <th>std</th>\n",
       "      <td>0.354455</td>\n",
       "      <td>0.166961</td>\n",
       "      <td>0.269823</td>\n",
       "      <td>0.356597</td>\n",
       "      <td>0.198728</td>\n",
       "      <td>5.483405</td>\n",
       "      <td>0.164727</td>\n",
       "      <td>29.873028</td>\n",
       "      <td>0.267355</td>\n",
       "    </tr>\n",
       "    <tr>\n",
       "      <th>min</th>\n",
       "      <td>0.000000</td>\n",
       "      <td>0.000000</td>\n",
       "      <td>0.000000</td>\n",
       "      <td>0.000000</td>\n",
       "      <td>0.000000</td>\n",
       "      <td>-60.000000</td>\n",
       "      <td>0.000000</td>\n",
       "      <td>0.000000</td>\n",
       "      <td>0.000000</td>\n",
       "    </tr>\n",
       "    <tr>\n",
       "      <th>25%</th>\n",
       "      <td>0.300000</td>\n",
       "      <td>0.394000</td>\n",
       "      <td>0.202000</td>\n",
       "      <td>0.000002</td>\n",
       "      <td>0.103000</td>\n",
       "      <td>-15.977000</td>\n",
       "      <td>0.035000</td>\n",
       "      <td>92.946750</td>\n",
       "      <td>0.288000</td>\n",
       "    </tr>\n",
       "    <tr>\n",
       "      <th>50%</th>\n",
       "      <td>0.752000</td>\n",
       "      <td>0.519000</td>\n",
       "      <td>0.376000</td>\n",
       "      <td>0.001590</td>\n",
       "      <td>0.145000</td>\n",
       "      <td>-12.086000</td>\n",
       "      <td>0.043500</td>\n",
       "      <td>114.723500</td>\n",
       "      <td>0.520000</td>\n",
       "    </tr>\n",
       "    <tr>\n",
       "      <th>75%</th>\n",
       "      <td>0.928000</td>\n",
       "      <td>0.630000</td>\n",
       "      <td>0.624000</td>\n",
       "      <td>0.496000</td>\n",
       "      <td>0.290000</td>\n",
       "      <td>-8.815500</td>\n",
       "      <td>0.065000</td>\n",
       "      <td>134.293000</td>\n",
       "      <td>0.733000</td>\n",
       "    </tr>\n",
       "    <tr>\n",
       "      <th>max</th>\n",
       "      <td>0.996000</td>\n",
       "      <td>0.985000</td>\n",
       "      <td>1.000000</td>\n",
       "      <td>0.997000</td>\n",
       "      <td>0.999000</td>\n",
       "      <td>0.899000</td>\n",
       "      <td>0.971000</td>\n",
       "      <td>221.058000</td>\n",
       "      <td>0.995000</td>\n",
       "    </tr>\n",
       "  </tbody>\n",
       "</table>\n",
       "</div>"
      ],
      "text/plain": [
       "       acousticness  danceability        energy  instrumentalness  \\\n",
       "count  46510.000000  46510.000000  46510.000000      46510.000000   \n",
       "mean       0.614800      0.507698      0.425602          0.233986   \n",
       "std        0.354455      0.166961      0.269823          0.356597   \n",
       "min        0.000000      0.000000      0.000000          0.000000   \n",
       "25%        0.300000      0.394000      0.202000          0.000002   \n",
       "50%        0.752000      0.519000      0.376000          0.001590   \n",
       "75%        0.928000      0.630000      0.624000          0.496000   \n",
       "max        0.996000      0.985000      1.000000          0.997000   \n",
       "\n",
       "           liveness      loudness   speechiness         tempo       valence  \n",
       "count  46510.000000  46510.000000  46510.000000  46510.000000  46510.000000  \n",
       "mean       0.227538    -12.808914      0.091462    115.969466      0.511482  \n",
       "std        0.198728      5.483405      0.164727     29.873028      0.267355  \n",
       "min        0.000000    -60.000000      0.000000      0.000000      0.000000  \n",
       "25%        0.103000    -15.977000      0.035000     92.946750      0.288000  \n",
       "50%        0.145000    -12.086000      0.043500    114.723500      0.520000  \n",
       "75%        0.290000     -8.815500      0.065000    134.293000      0.733000  \n",
       "max        0.999000      0.899000      0.971000    221.058000      0.995000  "
      ]
     },
     "execution_count": 83,
     "metadata": {},
     "output_type": "execute_result"
    }
   ],
   "source": [
    "df_q1.describe()"
   ]
  },
  {
   "cell_type": "code",
   "execution_count": 86,
   "metadata": {},
   "outputs": [
    {
     "data": {
      "text/html": [
       "<div>\n",
       "<style scoped>\n",
       "    .dataframe tbody tr th:only-of-type {\n",
       "        vertical-align: middle;\n",
       "    }\n",
       "\n",
       "    .dataframe tbody tr th {\n",
       "        vertical-align: top;\n",
       "    }\n",
       "\n",
       "    .dataframe thead th {\n",
       "        text-align: right;\n",
       "    }\n",
       "</style>\n",
       "<table border=\"1\" class=\"dataframe\">\n",
       "  <thead>\n",
       "    <tr style=\"text-align: right;\">\n",
       "      <th></th>\n",
       "      <th>acousticness</th>\n",
       "      <th>danceability</th>\n",
       "      <th>energy</th>\n",
       "      <th>instrumentalness</th>\n",
       "      <th>liveness</th>\n",
       "      <th>loudness</th>\n",
       "      <th>speechiness</th>\n",
       "      <th>tempo</th>\n",
       "      <th>valence</th>\n",
       "    </tr>\n",
       "  </thead>\n",
       "  <tbody>\n",
       "    <tr>\n",
       "      <th>count</th>\n",
       "      <td>57502.000000</td>\n",
       "      <td>57502.000000</td>\n",
       "      <td>57502.000000</td>\n",
       "      <td>57502.000000</td>\n",
       "      <td>57502.000000</td>\n",
       "      <td>57502.000000</td>\n",
       "      <td>57502.000000</td>\n",
       "      <td>57502.000000</td>\n",
       "      <td>57502.000000</td>\n",
       "    </tr>\n",
       "    <tr>\n",
       "      <th>mean</th>\n",
       "      <td>0.384852</td>\n",
       "      <td>0.537509</td>\n",
       "      <td>0.545132</td>\n",
       "      <td>0.128539</td>\n",
       "      <td>0.203293</td>\n",
       "      <td>-11.012217</td>\n",
       "      <td>0.067819</td>\n",
       "      <td>119.370295</td>\n",
       "      <td>0.553367</td>\n",
       "    </tr>\n",
       "    <tr>\n",
       "      <th>std</th>\n",
       "      <td>0.337232</td>\n",
       "      <td>0.175023</td>\n",
       "      <td>0.258278</td>\n",
       "      <td>0.274792</td>\n",
       "      <td>0.182052</td>\n",
       "      <td>5.060854</td>\n",
       "      <td>0.078573</td>\n",
       "      <td>29.949113</td>\n",
       "      <td>0.265248</td>\n",
       "    </tr>\n",
       "    <tr>\n",
       "      <th>min</th>\n",
       "      <td>0.000000</td>\n",
       "      <td>0.000000</td>\n",
       "      <td>0.000000</td>\n",
       "      <td>0.000000</td>\n",
       "      <td>0.000000</td>\n",
       "      <td>-60.000000</td>\n",
       "      <td>0.000000</td>\n",
       "      <td>0.000000</td>\n",
       "      <td>0.000000</td>\n",
       "    </tr>\n",
       "    <tr>\n",
       "      <th>25%</th>\n",
       "      <td>0.052800</td>\n",
       "      <td>0.416000</td>\n",
       "      <td>0.347000</td>\n",
       "      <td>0.000001</td>\n",
       "      <td>0.092600</td>\n",
       "      <td>-13.562000</td>\n",
       "      <td>0.033100</td>\n",
       "      <td>96.481000</td>\n",
       "      <td>0.340000</td>\n",
       "    </tr>\n",
       "    <tr>\n",
       "      <th>50%</th>\n",
       "      <td>0.308000</td>\n",
       "      <td>0.546000</td>\n",
       "      <td>0.551000</td>\n",
       "      <td>0.000201</td>\n",
       "      <td>0.130000</td>\n",
       "      <td>-10.281500</td>\n",
       "      <td>0.041600</td>\n",
       "      <td>116.646000</td>\n",
       "      <td>0.569000</td>\n",
       "    </tr>\n",
       "    <tr>\n",
       "      <th>75%</th>\n",
       "      <td>0.699000</td>\n",
       "      <td>0.664000</td>\n",
       "      <td>0.758000</td>\n",
       "      <td>0.036175</td>\n",
       "      <td>0.258000</td>\n",
       "      <td>-7.437250</td>\n",
       "      <td>0.063000</td>\n",
       "      <td>137.300750</td>\n",
       "      <td>0.780000</td>\n",
       "    </tr>\n",
       "    <tr>\n",
       "      <th>max</th>\n",
       "      <td>0.996000</td>\n",
       "      <td>0.980000</td>\n",
       "      <td>1.000000</td>\n",
       "      <td>0.999000</td>\n",
       "      <td>1.000000</td>\n",
       "      <td>3.744000</td>\n",
       "      <td>0.961000</td>\n",
       "      <td>243.507000</td>\n",
       "      <td>1.000000</td>\n",
       "    </tr>\n",
       "  </tbody>\n",
       "</table>\n",
       "</div>"
      ],
      "text/plain": [
       "       acousticness  danceability        energy  instrumentalness  \\\n",
       "count  57502.000000  57502.000000  57502.000000      57502.000000   \n",
       "mean       0.384852      0.537509      0.545132          0.128539   \n",
       "std        0.337232      0.175023      0.258278          0.274792   \n",
       "min        0.000000      0.000000      0.000000          0.000000   \n",
       "25%        0.052800      0.416000      0.347000          0.000001   \n",
       "50%        0.308000      0.546000      0.551000          0.000201   \n",
       "75%        0.699000      0.664000      0.758000          0.036175   \n",
       "max        0.996000      0.980000      1.000000          0.999000   \n",
       "\n",
       "           liveness      loudness   speechiness         tempo       valence  \n",
       "count  57502.000000  57502.000000  57502.000000  57502.000000  57502.000000  \n",
       "mean       0.203293    -11.012217      0.067819    119.370295      0.553367  \n",
       "std        0.182052      5.060854      0.078573     29.949113      0.265248  \n",
       "min        0.000000    -60.000000      0.000000      0.000000      0.000000  \n",
       "25%        0.092600    -13.562000      0.033100     96.481000      0.340000  \n",
       "50%        0.130000    -10.281500      0.041600    116.646000      0.569000  \n",
       "75%        0.258000     -7.437250      0.063000    137.300750      0.780000  \n",
       "max        1.000000      3.744000      0.961000    243.507000      1.000000  "
      ]
     },
     "execution_count": 86,
     "metadata": {},
     "output_type": "execute_result"
    }
   ],
   "source": [
    "df_q2.describe()"
   ]
  },
  {
   "cell_type": "code",
   "execution_count": 87,
   "metadata": {},
   "outputs": [
    {
     "data": {
      "text/html": [
       "<div>\n",
       "<style scoped>\n",
       "    .dataframe tbody tr th:only-of-type {\n",
       "        vertical-align: middle;\n",
       "    }\n",
       "\n",
       "    .dataframe tbody tr th {\n",
       "        vertical-align: top;\n",
       "    }\n",
       "\n",
       "    .dataframe thead th {\n",
       "        text-align: right;\n",
       "    }\n",
       "</style>\n",
       "<table border=\"1\" class=\"dataframe\">\n",
       "  <thead>\n",
       "    <tr style=\"text-align: right;\">\n",
       "      <th></th>\n",
       "      <th>acousticness</th>\n",
       "      <th>danceability</th>\n",
       "      <th>energy</th>\n",
       "      <th>instrumentalness</th>\n",
       "      <th>liveness</th>\n",
       "      <th>loudness</th>\n",
       "      <th>speechiness</th>\n",
       "      <th>tempo</th>\n",
       "      <th>valence</th>\n",
       "    </tr>\n",
       "  </thead>\n",
       "  <tbody>\n",
       "    <tr>\n",
       "      <th>count</th>\n",
       "      <td>23558.000000</td>\n",
       "      <td>23558.000000</td>\n",
       "      <td>23558.000000</td>\n",
       "      <td>23558.000000</td>\n",
       "      <td>23558.000000</td>\n",
       "      <td>23558.000000</td>\n",
       "      <td>23558.000000</td>\n",
       "      <td>23558.000000</td>\n",
       "      <td>23558.000000</td>\n",
       "    </tr>\n",
       "    <tr>\n",
       "      <th>mean</th>\n",
       "      <td>0.280323</td>\n",
       "      <td>0.589586</td>\n",
       "      <td>0.618329</td>\n",
       "      <td>0.063222</td>\n",
       "      <td>0.186045</td>\n",
       "      <td>-8.210848</td>\n",
       "      <td>0.083213</td>\n",
       "      <td>120.635929</td>\n",
       "      <td>0.525486</td>\n",
       "    </tr>\n",
       "    <tr>\n",
       "      <th>std</th>\n",
       "      <td>0.297065</td>\n",
       "      <td>0.168365</td>\n",
       "      <td>0.228338</td>\n",
       "      <td>0.200582</td>\n",
       "      <td>0.151489</td>\n",
       "      <td>4.487805</td>\n",
       "      <td>0.091121</td>\n",
       "      <td>30.097619</td>\n",
       "      <td>0.252223</td>\n",
       "    </tr>\n",
       "    <tr>\n",
       "      <th>min</th>\n",
       "      <td>0.000000</td>\n",
       "      <td>0.000000</td>\n",
       "      <td>0.000020</td>\n",
       "      <td>0.000000</td>\n",
       "      <td>0.000000</td>\n",
       "      <td>-54.376000</td>\n",
       "      <td>0.000000</td>\n",
       "      <td>0.000000</td>\n",
       "      <td>0.000000</td>\n",
       "    </tr>\n",
       "    <tr>\n",
       "      <th>25%</th>\n",
       "      <td>0.028700</td>\n",
       "      <td>0.483000</td>\n",
       "      <td>0.468000</td>\n",
       "      <td>0.000000</td>\n",
       "      <td>0.093400</td>\n",
       "      <td>-10.052000</td>\n",
       "      <td>0.033700</td>\n",
       "      <td>96.428250</td>\n",
       "      <td>0.326000</td>\n",
       "    </tr>\n",
       "    <tr>\n",
       "      <th>50%</th>\n",
       "      <td>0.160000</td>\n",
       "      <td>0.599000</td>\n",
       "      <td>0.646000</td>\n",
       "      <td>0.000007</td>\n",
       "      <td>0.125000</td>\n",
       "      <td>-7.149000</td>\n",
       "      <td>0.045350</td>\n",
       "      <td>119.725000</td>\n",
       "      <td>0.527000</td>\n",
       "    </tr>\n",
       "    <tr>\n",
       "      <th>75%</th>\n",
       "      <td>0.477000</td>\n",
       "      <td>0.711000</td>\n",
       "      <td>0.801000</td>\n",
       "      <td>0.001430</td>\n",
       "      <td>0.237000</td>\n",
       "      <td>-5.218000</td>\n",
       "      <td>0.084000</td>\n",
       "      <td>140.004000</td>\n",
       "      <td>0.732000</td>\n",
       "    </tr>\n",
       "    <tr>\n",
       "      <th>max</th>\n",
       "      <td>0.996000</td>\n",
       "      <td>0.988000</td>\n",
       "      <td>1.000000</td>\n",
       "      <td>1.000000</td>\n",
       "      <td>0.996000</td>\n",
       "      <td>1.342000</td>\n",
       "      <td>0.944000</td>\n",
       "      <td>219.446000</td>\n",
       "      <td>0.991000</td>\n",
       "    </tr>\n",
       "  </tbody>\n",
       "</table>\n",
       "</div>"
      ],
      "text/plain": [
       "       acousticness  danceability        energy  instrumentalness  \\\n",
       "count  23558.000000  23558.000000  23558.000000      23558.000000   \n",
       "mean       0.280323      0.589586      0.618329          0.063222   \n",
       "std        0.297065      0.168365      0.228338          0.200582   \n",
       "min        0.000000      0.000000      0.000020          0.000000   \n",
       "25%        0.028700      0.483000      0.468000          0.000000   \n",
       "50%        0.160000      0.599000      0.646000          0.000007   \n",
       "75%        0.477000      0.711000      0.801000          0.001430   \n",
       "max        0.996000      0.988000      1.000000          1.000000   \n",
       "\n",
       "           liveness      loudness   speechiness         tempo       valence  \n",
       "count  23558.000000  23558.000000  23558.000000  23558.000000  23558.000000  \n",
       "mean       0.186045     -8.210848      0.083213    120.635929      0.525486  \n",
       "std        0.151489      4.487805      0.091121     30.097619      0.252223  \n",
       "min        0.000000    -54.376000      0.000000      0.000000      0.000000  \n",
       "25%        0.093400    -10.052000      0.033700     96.428250      0.326000  \n",
       "50%        0.125000     -7.149000      0.045350    119.725000      0.527000  \n",
       "75%        0.237000     -5.218000      0.084000    140.004000      0.732000  \n",
       "max        0.996000      1.342000      0.944000    219.446000      0.991000  "
      ]
     },
     "execution_count": 87,
     "metadata": {},
     "output_type": "execute_result"
    }
   ],
   "source": [
    "df_q3.describe()"
   ]
  },
  {
   "cell_type": "code",
   "execution_count": 88,
   "metadata": {},
   "outputs": [
    {
     "data": {
      "text/html": [
       "<div>\n",
       "<style scoped>\n",
       "    .dataframe tbody tr th:only-of-type {\n",
       "        vertical-align: middle;\n",
       "    }\n",
       "\n",
       "    .dataframe tbody tr th {\n",
       "        vertical-align: top;\n",
       "    }\n",
       "\n",
       "    .dataframe thead th {\n",
       "        text-align: right;\n",
       "    }\n",
       "</style>\n",
       "<table border=\"1\" class=\"dataframe\">\n",
       "  <thead>\n",
       "    <tr style=\"text-align: right;\">\n",
       "      <th></th>\n",
       "      <th>acousticness</th>\n",
       "      <th>danceability</th>\n",
       "      <th>energy</th>\n",
       "      <th>instrumentalness</th>\n",
       "      <th>liveness</th>\n",
       "      <th>loudness</th>\n",
       "      <th>speechiness</th>\n",
       "      <th>tempo</th>\n",
       "      <th>valence</th>\n",
       "    </tr>\n",
       "  </thead>\n",
       "  <tbody>\n",
       "    <tr>\n",
       "      <th>count</th>\n",
       "      <td>5914.000000</td>\n",
       "      <td>5914.000000</td>\n",
       "      <td>5914.000000</td>\n",
       "      <td>5914.000000</td>\n",
       "      <td>5914.000000</td>\n",
       "      <td>5914.000000</td>\n",
       "      <td>5914.000000</td>\n",
       "      <td>5914.000000</td>\n",
       "      <td>5914.000000</td>\n",
       "    </tr>\n",
       "    <tr>\n",
       "      <th>mean</th>\n",
       "      <td>0.367480</td>\n",
       "      <td>0.565628</td>\n",
       "      <td>0.560180</td>\n",
       "      <td>0.093767</td>\n",
       "      <td>0.202097</td>\n",
       "      <td>-9.848326</td>\n",
       "      <td>0.075257</td>\n",
       "      <td>119.123968</td>\n",
       "      <td>0.534339</td>\n",
       "    </tr>\n",
       "    <tr>\n",
       "      <th>std</th>\n",
       "      <td>0.329921</td>\n",
       "      <td>0.171142</td>\n",
       "      <td>0.243281</td>\n",
       "      <td>0.239781</td>\n",
       "      <td>0.177626</td>\n",
       "      <td>4.948404</td>\n",
       "      <td>0.089544</td>\n",
       "      <td>30.052495</td>\n",
       "      <td>0.255415</td>\n",
       "    </tr>\n",
       "    <tr>\n",
       "      <th>min</th>\n",
       "      <td>0.000001</td>\n",
       "      <td>0.000000</td>\n",
       "      <td>0.000020</td>\n",
       "      <td>0.000000</td>\n",
       "      <td>0.019500</td>\n",
       "      <td>-42.238000</td>\n",
       "      <td>0.000000</td>\n",
       "      <td>0.000000</td>\n",
       "      <td>0.000000</td>\n",
       "    </tr>\n",
       "    <tr>\n",
       "      <th>25%</th>\n",
       "      <td>0.053325</td>\n",
       "      <td>0.451250</td>\n",
       "      <td>0.383250</td>\n",
       "      <td>0.000000</td>\n",
       "      <td>0.095700</td>\n",
       "      <td>-12.484500</td>\n",
       "      <td>0.033600</td>\n",
       "      <td>95.710250</td>\n",
       "      <td>0.330000</td>\n",
       "    </tr>\n",
       "    <tr>\n",
       "      <th>50%</th>\n",
       "      <td>0.267500</td>\n",
       "      <td>0.576000</td>\n",
       "      <td>0.578000</td>\n",
       "      <td>0.000033</td>\n",
       "      <td>0.131000</td>\n",
       "      <td>-8.993500</td>\n",
       "      <td>0.044200</td>\n",
       "      <td>116.965500</td>\n",
       "      <td>0.541000</td>\n",
       "    </tr>\n",
       "    <tr>\n",
       "      <th>75%</th>\n",
       "      <td>0.666000</td>\n",
       "      <td>0.689000</td>\n",
       "      <td>0.755000</td>\n",
       "      <td>0.006468</td>\n",
       "      <td>0.254000</td>\n",
       "      <td>-6.150000</td>\n",
       "      <td>0.071200</td>\n",
       "      <td>137.832750</td>\n",
       "      <td>0.742000</td>\n",
       "    </tr>\n",
       "    <tr>\n",
       "      <th>max</th>\n",
       "      <td>0.996000</td>\n",
       "      <td>0.980000</td>\n",
       "      <td>0.996000</td>\n",
       "      <td>1.000000</td>\n",
       "      <td>0.991000</td>\n",
       "      <td>0.289000</td>\n",
       "      <td>0.964000</td>\n",
       "      <td>220.099000</td>\n",
       "      <td>0.990000</td>\n",
       "    </tr>\n",
       "  </tbody>\n",
       "</table>\n",
       "</div>"
      ],
      "text/plain": [
       "       acousticness  danceability       energy  instrumentalness     liveness  \\\n",
       "count   5914.000000   5914.000000  5914.000000       5914.000000  5914.000000   \n",
       "mean       0.367480      0.565628     0.560180          0.093767     0.202097   \n",
       "std        0.329921      0.171142     0.243281          0.239781     0.177626   \n",
       "min        0.000001      0.000000     0.000020          0.000000     0.019500   \n",
       "25%        0.053325      0.451250     0.383250          0.000000     0.095700   \n",
       "50%        0.267500      0.576000     0.578000          0.000033     0.131000   \n",
       "75%        0.666000      0.689000     0.755000          0.006468     0.254000   \n",
       "max        0.996000      0.980000     0.996000          1.000000     0.991000   \n",
       "\n",
       "          loudness  speechiness        tempo      valence  \n",
       "count  5914.000000  5914.000000  5914.000000  5914.000000  \n",
       "mean     -9.848326     0.075257   119.123968     0.534339  \n",
       "std       4.948404     0.089544    30.052495     0.255415  \n",
       "min     -42.238000     0.000000     0.000000     0.000000  \n",
       "25%     -12.484500     0.033600    95.710250     0.330000  \n",
       "50%      -8.993500     0.044200   116.965500     0.541000  \n",
       "75%      -6.150000     0.071200   137.832750     0.742000  \n",
       "max       0.289000     0.964000   220.099000     0.990000  "
      ]
     },
     "execution_count": 88,
     "metadata": {},
     "output_type": "execute_result"
    }
   ],
   "source": [
    "df_q4.describe()"
   ]
  },
  {
   "cell_type": "code",
   "execution_count": 174,
   "metadata": {},
   "outputs": [],
   "source": [
    "def bar_plot(valuesList, name):\n",
    "    \n",
    "    # create a dataset\n",
    "    height = valuesList\n",
    "    bars = ('q1', 'q2', 'q3', 'q4')\n",
    "    x_pos = np.arange(len(bars))\n",
    "    \n",
    "    # plt.figure(figsize=(4,2), dpi=100)\n",
    "    \n",
    "    # Create bars\n",
    "    plt.bar(x_pos, height, color=('black', 'red', 'green', 'blue'))\n",
    "    \n",
    "    # varianle name\n",
    "    plt.title(name)\n",
    "    \n",
    "    # Create names on the x-axis\n",
    "    plt.xticks(x_pos, bars)\n",
    "\n",
    "    # Show graph\n",
    "    plt.show()"
   ]
  },
  {
   "cell_type": "code",
   "execution_count": 149,
   "metadata": {},
   "outputs": [],
   "source": [
    "acoust = [df_q1['acousticness'].mean(), df_q2['acousticness'].mean(), df_q3['acousticness'].mean(), df_q4['acousticness'].mean()]\n",
    "dance = [df_q1['danceability'].mean(), df_q2['danceability'].mean(), df_q3['danceability'].mean(), df_q4['danceability'].mean()]\n",
    "energy = [df_q1['energy'].mean(), df_q2['energy'].mean(), df_q3['energy'].mean(), df_q4['energy'].mean()]\n",
    "ins = [df_q1['instrumentalness'].mean(), df_q2['instrumentalness'].mean(), df_q3['instrumentalness'].mean(), df_q4['instrumentalness'].mean()]\n",
    "live = [df_q1['liveness'].mean(), df_q2['liveness'].mean(), df_q3['liveness'].mean(), df_q4['liveness'].mean()]\n",
    "loud = [df_q1['loudness'].mean(), df_q2['loudness'].mean(), df_q3['loudness'].mean(), df_q4['loudness'].mean()]\n",
    "speech = [df_q1['speechiness'].mean(), df_q2['speechiness'].mean(), df_q3['speechiness'].mean(), df_q4['speechiness'].mean()]\n",
    "tempo = [df_q1['tempo'].mean(), df_q2['tempo'].mean(), df_q3['tempo'].mean(), df_q4['tempo'].mean()]\n",
    "valence = [df_q1['valence'].mean(), df_q2['valence'].mean(), df_q3['valence'].mean(), df_q4['valence'].mean()]\n"
   ]
  },
  {
   "cell_type": "code",
   "execution_count": 182,
   "metadata": {},
   "outputs": [
    {
     "data": {
      "image/png": "[encoded data removed]",
      "text/plain": [
       "<Figure size 432x288 with 1 Axes>"
      ]
     },
     "metadata": {
      "needs_background": "light"
     },
     "output_type": "display_data"
    },
    {
     "data": {
      "image/png": "[encoded data removed]",
      "text/plain": [
       "<Figure size 432x288 with 1 Axes>"
      ]
     },
     "metadata": {
      "needs_background": "light"
     },
     "output_type": "display_data"
    },
    {
     "data": {
      "image/png": "[encoded data removed]",
      "text/plain": [
       "<Figure size 432x288 with 1 Axes>"
      ]
     },
     "metadata": {
      "needs_background": "light"
     },
     "output_type": "display_data"
    }
   ],
   "source": [
    "bar_plot(ac, 'acousticness')\n",
    "bar_plot(dance, 'danceability')\n",
    "bar_plot(energy, 'energy')"
   ]
  },
  {
   "cell_type": "code",
   "execution_count": 183,
   "metadata": {},
   "outputs": [
    {
     "data": {
      "image/png": "[encoded data removed]",
      "text/plain": [
       "<Figure size 432x288 with 1 Axes>"
      ]
     },
     "metadata": {
      "needs_background": "light"
     },
     "output_type": "display_data"
    },
    {
     "data": {
      "image/png": "[encoded data removed]",
      "text/plain": [
       "<Figure size 432x288 with 1 Axes>"
      ]
     },
     "metadata": {
      "needs_background": "light"
     },
     "output_type": "display_data"
    },
    {
     "data": {
      "image/png": "[encoded data removed]",
      "text/plain": [
       "<Figure size 432x288 with 1 Axes>"
      ]
     },
     "metadata": {
      "needs_background": "light"
     },
     "output_type": "display_data"
    }
   ],
   "source": [
    "bar_plot(ins, 'instrumentalness')\n",
    "bar_plot(live, 'liveness')\n",
    "bar_plot(loud, 'loudness')"
   ]
  },
  {
   "cell_type": "code",
   "execution_count": 184,
   "metadata": {},
   "outputs": [
    {
     "data": {
      "image/png": "[encoded data removed]",
      "text/plain": [
       "<Figure size 432x288 with 1 Axes>"
      ]
     },
     "metadata": {
      "needs_background": "light"
     },
     "output_type": "display_data"
    },
    {
     "data": {
      "image/png": "[encoded data removed]",
      "text/plain": [
       "<Figure size 432x288 with 1 Axes>"
      ]
     },
     "metadata": {
      "needs_background": "light"
     },
     "output_type": "display_data"
    },
    {
     "data": {
      "image/png": "[encoded data removed]",
      "text/plain": [
       "<Figure size 432x288 with 1 Axes>"
      ]
     },
     "metadata": {
      "needs_background": "light"
     },
     "output_type": "display_data"
    }
   ],
   "source": [
    "bar_plot(speech, 'speechiness')\n",
    "bar_plot(tempo, 'tempo')\n",
    "bar_plot(valence, 'valence')"
   ]
  },
  {
   "cell_type": "markdown",
   "metadata": {},
   "source": [
    "#### Not much difference on dancability, tempo, valence\n",
    "#### So, from 9 audio features, considering only 6 features"
   ]
  },
  {
   "cell_type": "code",
   "execution_count": 200,
   "metadata": {},
   "outputs": [],
   "source": [
    "acoust1 = [df_q2['acousticness'].mean(), df_q3['acousticness'].mean(), df_q4['acousticness'].mean()]\n",
    "energy1 = [df_q2['energy'].mean(), df_q3['energy'].mean(), df_q4['energy'].mean()]\n",
    "ins1 = [df_q2['instrumentalness'].mean(), df_q3['instrumentalness'].mean(), df_q4['instrumentalness'].mean()]\n",
    "live1 = [df_q2['liveness'].mean(), df_q3['liveness'].mean(), df_q4['liveness'].mean()]\n",
    "loud1 = [df_q2['loudness'].mean(), df_q3['loudness'].mean(), df_q4['loudness'].mean()]\n",
    "speech1 = [df_q2['speechiness'].mean(), df_q3['speechiness'].mean(), df_q4['speechiness'].mean()]"
   ]
  },
  {
   "cell_type": "code",
   "execution_count": 204,
   "metadata": {},
   "outputs": [
    {
     "name": "stdout",
     "output_type": "stream",
     "text": [
      "Summarized table\n",
      "+----+------------------+------------------------+-------------------------+-------------------------+\n",
      "|    | Variable         |   Unpopular Mean Scale |   Recommended Min Scale |   Recommended Max Scale |\n",
      "|----+------------------+------------------------+-------------------------+-------------------------|\n",
      "|  0 | acousticness     |              0.6148    |               0.280323  |               0.384852  |\n",
      "|  1 | energy           |              0.425602  |               0.545132  |               0.618329  |\n",
      "|  2 | instrumentalness |              0.233986  |               0.0632217 |               0.128539  |\n",
      "|  3 | liveness         |              0.227538  |               0.186045  |               0.203293  |\n",
      "|  4 | loudness         |            -12.8089    |             -11.0122    |              -8.21085   |\n",
      "|  5 | speechiness      |              0.0914623 |               0.0678186 |               0.0832132 |\n",
      "+----+------------------+------------------------+-------------------------+-------------------------+\n"
     ]
    }
   ],
   "source": [
    "from tabulate import tabulate \n",
    "# creating a DataFrame \n",
    "print(\"Summarized table\")\n",
    "dict = {'Variable':['acousticness', 'energy', 'instrumentalness', 'liveness', 'loudness', 'speechiness'], \n",
    "        'Unpopular Mean Scale':[df_q1['acousticness'].mean(), df_q1['energy'].mean(),\n",
    "                          df_q1['instrumentalness'].mean(), df_q1['liveness'].mean(),\n",
    "                          df_q1['loudness'].mean(), df_q1['speechiness'].mean()],\n",
    "        'Recommended Min Scale':[min(acoust1), min(energy1), min(ins1), min(live1), min(loud1), min(speech1)],\n",
    "        'Recommended Max Scale':[max(acoust1), max(energy1), max(ins1), max(live1), max(loud1), max(speech1)],\n",
    "        }\n",
    "df = pd.DataFrame(dict) \n",
    "  \n",
    "# displaying the DataFrame \n",
    "print(tabulate(df, headers = 'keys', tablefmt = 'psql'))"
   ]
  },
  {
   "cell_type": "code",
   "execution_count": null,
   "metadata": {},
   "outputs": [],
   "source": []
  }
 ],
 "metadata": {
  "kernelspec": {
   "display_name": "Python 3",
   "language": "python",
   "name": "python3"
  },
  "language_info": {
   "codemirror_mode": {
    "name": "ipython",
    "version": 3
   },
   "file_extension": ".py",
   "mimetype": "text/x-python",
   "name": "python",
   "nbconvert_exporter": "python",
   "pygments_lexer": "ipython3",
   "version": "3.7.4"
  }
 },
 "nbformat": 4,
 "nbformat_minor": 2
}
